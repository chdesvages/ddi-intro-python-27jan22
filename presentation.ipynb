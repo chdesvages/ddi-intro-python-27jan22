{
 "cells": [
  {
   "cell_type": "markdown",
   "metadata": {
    "hide_input": true,
    "slideshow": {
     "slide_type": "slide"
    }
   },
   "source": [
    "# Introduction to Python - DDI session - 27th January 2022\n",
    "\n",
    "Charlotte Desvages"
   ]
  },
  {
   "cell_type": "markdown",
   "metadata": {
    "slideshow": {
     "slide_type": "slide"
    }
   },
   "source": [
    "## Welcome!\n",
    "\n",
    "Today I'll give you an overview of what Python looks like, some examples of what it can do, and point you towards great resources to continue learning."
   ]
  },
  {
   "cell_type": "markdown",
   "metadata": {
    "slideshow": {
     "slide_type": "fragment"
    }
   },
   "source": [
    "We will have **interactive code examples** throughout the session, which you'll be able to run yourselves.\n",
    "\n",
    "We'll use a cloud service called Binder -- no need to install anything!"
   ]
  },
  {
   "cell_type": "markdown",
   "metadata": {
    "slideshow": {
     "slide_type": "subslide"
    }
   },
   "source": [
    "## Teams communication\n",
    "\n",
    "At the top of Teams, use the [**Reactions** menu](https://support.microsoft.com/en-us/office/express-yourself-in-teams-meetings-with-live-reactions-a8323a40-3d07-4129-934b-305370a36e21#ID0EFD=Desktop).\n",
    "\n",
    "You can also use the **chat** to ask questions."
   ]
  },
  {
   "cell_type": "markdown",
   "metadata": {
    "slideshow": {
     "slide_type": "subslide"
    }
   },
   "source": [
    "### How do I code along?\n",
    "\n",
    "## [bit.ly/ddi-python-jan22](https://bit.ly/ddi-python-jan22)\n",
    "\n",
    "Then, click on the \"**launch binder**\" button. You should then see the content of these slides. This is a **Jupyter notebook** -- a Python programming environment that runs in your browser. Wait until it loads completely (~1min), then:\n",
    "- scroll down until you see the flags 🚩🚩🚩. Then, click on the **Python code cell** just below. You should see a green frame appearing around it.\n",
    "- Click the <kbd>> Run</kbd> button in the toolbar at the top (or press <kbd>Ctrl</kbd> + <kbd>Enter</kbd> on your keyboard). This will **run** the code inside the cell, and you will see the result below.\n",
    "\n",
    "# 🚩🚩🚩 Example 1"
   ]
  },
  {
   "cell_type": "code",
   "execution_count": null,
   "metadata": {
    "scrolled": true
   },
   "outputs": [],
   "source": [
    "print('Success! :)')"
   ]
  },
  {
   "cell_type": "code",
   "execution_count": 1,
   "metadata": {
    "scrolled": true,
    "slideshow": {
     "slide_type": "subslide"
    }
   },
   "outputs": [
    {
     "name": "stdout",
     "output_type": "stream",
     "text": [
      "Success! :)\n"
     ]
    }
   ],
   "source": [
    "print('Success! :)')"
   ]
  },
  {
   "cell_type": "markdown",
   "metadata": {
    "slideshow": {
     "slide_type": "-"
    }
   },
   "source": [
    "When you've run the code, `Success! :)` should appear **below** the code cell. If that's the case, come back on Teams and give a *thumbs up*. **Don't close your browser tab or you'll lose your progress!**\n",
    "\n",
    "You can follow the presentation on the Teams meeting. When there are code examples you can run and change yourself, they will be flagged with 🚩🚩🚩 if you want to jump back into your notebook."
   ]
  },
  {
   "cell_type": "markdown",
   "metadata": {
    "slideshow": {
     "slide_type": "slide"
    }
   },
   "source": [
    "## What is Python?\n",
    "\n",
    "\"Python\" refers to both the **programming language** and the **interpreter**. The interpreter is the tool which instructs your computer to execute the code you write."
   ]
  },
  {
   "cell_type": "markdown",
   "metadata": {
    "slideshow": {
     "slide_type": "fragment"
    }
   },
   "source": [
    "### Why should I learn Python?\n",
    "\n",
    "- It's **easier to learn** than most other languages.\n",
    "- It's **free** and open-source, and available on all major platforms.\n",
    "- There are a **lot** of well-maintained third-party libraries available for a wide variety of applications. We will see a couple of these today!\n",
    "- It has a very **large and welcoming community**, which is growing every day."
   ]
  },
  {
   "cell_type": "markdown",
   "metadata": {
    "slideshow": {
     "slide_type": "slide"
    }
   },
   "source": [
    "## Let's go!\n",
    "\n",
    "First, let's get Python to show us something, using the `print()` command."
   ]
  },
  {
   "cell_type": "code",
   "execution_count": 6,
   "metadata": {},
   "outputs": [
    {
     "name": "stdout",
     "output_type": "stream",
     "text": [
      "12\n",
      "-3\n",
      "Hello!\n"
     ]
    }
   ],
   "source": [
    "print(4 * 3)\n",
    "print(2 - 5)\n",
    "print('Hello!')"
   ]
  },
  {
   "cell_type": "markdown",
   "metadata": {
    "slideshow": {
     "slide_type": "notes"
    }
   },
   "source": [
    "We've seen `print()` a minute ago, this was the first command we used to display \"Success!\".\n",
    "\n",
    "Here are a couple more examples:\n",
    "\n",
    "```python\n",
    "print(20)\n",
    "print(3 + 4)\n",
    "print(4 * 3)\n",
    "print('Hello!')\n",
    "```\n",
    "\n",
    "We can\n",
    "\n",
    "- show numbers,\n",
    "- calculate new numbers, and show the result,\n",
    "- show text using quotation marks."
   ]
  },
  {
   "cell_type": "markdown",
   "metadata": {
    "slideshow": {
     "slide_type": "slide"
    }
   },
   "source": [
    "## Variables and objects\n",
    "\n",
    "In Python, all data is an **object** of a certain **type**. For example, we've seen number objects (`456`, `2 + 3`...), and string objects which represent text (`'Success! :)'`).\n",
    "\n",
    "We can store objects in memory to reuse them later, using **variables**."
   ]
  },
  {
   "cell_type": "markdown",
   "metadata": {
    "slideshow": {
     "slide_type": "subslide"
    }
   },
   "source": [
    "A **variable** is a **label** to some place in your computer's memory, where an object is stored.\n",
    "\n",
    "We often say that, in Python, a variable *points to* or *refers to* an object. It's a **name** we choose for an object."
   ]
  },
  {
   "cell_type": "code",
   "execution_count": 8,
   "metadata": {
    "slideshow": {
     "slide_type": "fragment"
    }
   },
   "outputs": [
    {
     "name": "stdout",
     "output_type": "stream",
     "text": [
      "1.5\n"
     ]
    }
   ],
   "source": [
    "a = 0.5\n",
    "print(a + 1)"
   ]
  },
  {
   "cell_type": "markdown",
   "metadata": {
    "slideshow": {
     "slide_type": "-"
    }
   },
   "source": [
    "<img alt=\"Assigning 0.5 to a\" src=\"graphics/var1.png\" width=600px>"
   ]
  },
  {
   "cell_type": "markdown",
   "metadata": {
    "slideshow": {
     "slide_type": "notes"
    }
   },
   "source": [
    "We assign a variable using the `=` sign, which doesn't mean the same thing as in mathematics!\n",
    "\n",
    "- Python evaluates the right hand side of the `=` sign.\n",
    "- Then, it gives it the name you chose on the left hand side -- here, `a`.\n",
    "- If we want to use that object (that value) later, we can call it by its name."
   ]
  },
  {
   "cell_type": "markdown",
   "metadata": {
    "slideshow": {
     "slide_type": "subslide"
    }
   },
   "source": [
    "# 🚩🚩🚩 Example 2\n",
    "\n",
    "What will be the output of each of these cells?"
   ]
  },
  {
   "cell_type": "code",
   "execution_count": 9,
   "metadata": {},
   "outputs": [
    {
     "name": "stdout",
     "output_type": "stream",
     "text": [
      "2.5\n"
     ]
    }
   ],
   "source": [
    "a = 0.5\n",
    "b = a + 2\n",
    "print(b)"
   ]
  },
  {
   "cell_type": "code",
   "execution_count": 10,
   "metadata": {},
   "outputs": [
    {
     "name": "stdout",
     "output_type": "stream",
     "text": [
      "1.25\n"
     ]
    }
   ],
   "source": [
    "c = a * b\n",
    "print(c)"
   ]
  },
  {
   "cell_type": "code",
   "execution_count": 18,
   "metadata": {
    "slideshow": {
     "slide_type": "subslide"
    }
   },
   "outputs": [
    {
     "name": "stdout",
     "output_type": "stream",
     "text": [
      "8.5\n"
     ]
    }
   ],
   "source": [
    "a = a + 1\n",
    "print(a)"
   ]
  },
  {
   "cell_type": "code",
   "execution_count": 19,
   "metadata": {
    "slideshow": {
     "slide_type": "-"
    }
   },
   "outputs": [
    {
     "name": "stdout",
     "output_type": "stream",
     "text": [
      "1\n"
     ]
    }
   ],
   "source": [
    "x = 1\n",
    "y = x\n",
    "x = 2\n",
    "print(y)"
   ]
  },
  {
   "cell_type": "markdown",
   "metadata": {
    "slideshow": {
     "slide_type": "fragment"
    }
   },
   "source": [
    "| `x = 1 ` | `y = x` | `x = 2` |\n",
    "|:---:|:---:|:---:|\n",
    "| ![x = 1](graphics/xy_1.png) | ![y = x](graphics/xy_2.png) | ![x = 2](graphics/xy_3.png) |"
   ]
  },
  {
   "cell_type": "markdown",
   "metadata": {
    "slideshow": {
     "slide_type": "notes"
    }
   },
   "source": [
    "The way Python interprets `y = x` is to give a second possible name, `y`, with which we can refer to the object that is already named `x`. It won't copy the object to a separate box if it's not necessary."
   ]
  },
  {
   "cell_type": "code",
   "execution_count": 21,
   "metadata": {
    "slideshow": {
     "slide_type": "subslide"
    }
   },
   "outputs": [
    {
     "name": "stdout",
     "output_type": "stream",
     "text": [
      "ABCABCABCABC\n"
     ]
    }
   ],
   "source": [
    "s = \"ABC\"\n",
    "t = 4 * s\n",
    "print(t)"
   ]
  },
  {
   "cell_type": "code",
   "execution_count": 23,
   "metadata": {
    "slideshow": {
     "slide_type": "-"
    }
   },
   "outputs": [
    {
     "name": "stdout",
     "output_type": "stream",
     "text": [
      "ABCaaaaaaABCABCABCABCaaaaaaABCABCABCABC\n"
     ]
    },
    {
     "ename": "TypeError",
     "evalue": "can't multiply sequence by non-int of type 'str'",
     "output_type": "error",
     "traceback": [
      "\u001b[0;31m---------------------------------------------------------------------------\u001b[0m",
      "\u001b[0;31mTypeError\u001b[0m                                 Traceback (most recent call last)",
      "\u001b[0;32m/tmp/ipykernel_26161/2108907031.py\u001b[0m in \u001b[0;36m<module>\u001b[0;34m\u001b[0m\n\u001b[1;32m      2\u001b[0m \u001b[0mprint\u001b[0m\u001b[0;34m(\u001b[0m\u001b[0ms\u001b[0m\u001b[0;34m)\u001b[0m\u001b[0;34m\u001b[0m\u001b[0;34m\u001b[0m\u001b[0m\n\u001b[1;32m      3\u001b[0m \u001b[0;34m\u001b[0m\u001b[0m\n\u001b[0;32m----> 4\u001b[0;31m \u001b[0mprint\u001b[0m\u001b[0;34m(\u001b[0m\u001b[0;34m'aaa'\u001b[0m \u001b[0;34m*\u001b[0m \u001b[0;34m'bbb'\u001b[0m\u001b[0;34m)\u001b[0m\u001b[0;34m\u001b[0m\u001b[0;34m\u001b[0m\u001b[0m\n\u001b[0m",
      "\u001b[0;31mTypeError\u001b[0m: can't multiply sequence by non-int of type 'str'"
     ]
    }
   ],
   "source": [
    "s = s + 'aaaaaa' + t\n",
    "print(s)\n",
    "\n",
    "print('aaa' * 'bbb')"
   ]
  },
  {
   "cell_type": "markdown",
   "metadata": {
    "slideshow": {
     "slide_type": "notes"
    }
   },
   "source": [
    "So far we've performed operations with numbers, but numbers aren't the only type of object available in Python.\n",
    "\n",
    "We have seen a couple of examples of **strings** earlier. We can create a string of characters by typing them enclosed in quotation marks.\n",
    "\n",
    "Python can also manipulate strings. Here are a couple of examples:\n",
    "\n",
    "- multiply a string by a number -- what happens?\n",
    "- add two strings together -- what happens?\n",
    "\n",
    "Python interprets `+` and `*` differently if you are operating with different object types."
   ]
  },
  {
   "cell_type": "markdown",
   "metadata": {
    "slideshow": {
     "slide_type": "slide"
    }
   },
   "source": [
    "## Data types\n",
    "\n",
    "Python can tell us what *type* an object is, using the function `type()`."
   ]
  },
  {
   "cell_type": "code",
   "execution_count": 27,
   "metadata": {},
   "outputs": [
    {
     "name": "stdout",
     "output_type": "stream",
     "text": [
      "<class 'int'>\n",
      "0.5\n",
      "<class 'float'>\n"
     ]
    }
   ],
   "source": [
    "c = 1\n",
    "print(type(c))\n",
    "\n",
    "c = c / 2\n",
    "print(c)\n",
    "print(type(c))"
   ]
  },
  {
   "cell_type": "markdown",
   "metadata": {
    "slideshow": {
     "slide_type": "notes"
    }
   },
   "source": [
    "Now, if we divide 1 by 2, what should we get?\n",
    "\n",
    "```python\n",
    "c = c / 2\n",
    "print(c)\n",
    "print(type(c))\n",
    "```\n",
    "\n",
    "`c` is now a `float` (floating point number), which is how computers represent decimal numbers.\n",
    "\n",
    "Python usually knows to choose the appropriate **number type** automatically. We say that Python is **duck-typed** -- if it walks like a `float` and quacks like a `float`, then it's probably a `float`."
   ]
  },
  {
   "cell_type": "markdown",
   "metadata": {
    "slideshow": {
     "slide_type": "subslide"
    }
   },
   "source": [
    "## A useful type to make decisions: `bool`\n"
   ]
  },
  {
   "cell_type": "code",
   "execution_count": 39,
   "metadata": {
    "slideshow": {
     "slide_type": "fragment"
    }
   },
   "outputs": [
    {
     "name": "stdout",
     "output_type": "stream",
     "text": [
      "At least one of them is true...\n",
      "Maybe it is a...\n",
      "Maybe it is b!\n",
      "Who knows!\n"
     ]
    }
   ],
   "source": [
    "a = False\n",
    "b = True\n",
    "\n",
    "# if a:\n",
    "#     print('a is True.')\n",
    "# else:\n",
    "#     print('a is False!')\n",
    "\n",
    "if a and b:\n",
    "    print('a and b are both True.')\n",
    "elif a or b:\n",
    "    print('At least one of them is true...')\n",
    "    print('Maybe it is a...')\n",
    "    print('Maybe it is b!')\n",
    "    print('Who knows!')\n",
    "else:\n",
    "    print('Both are False.')"
   ]
  },
  {
   "cell_type": "markdown",
   "metadata": {
    "slideshow": {
     "slide_type": "notes"
    }
   },
   "source": [
    "The keywords `True` and `False` represent what we call **Boolean** or logical values.\n",
    "\n",
    "We can use these to **make decisions** in our code, for example to run a command only under a certain condition.\n",
    "\n",
    "---\n",
    "\n",
    "```python\n",
    "if a and b:\n",
    "    print('a and b are both True.')\n",
    "else:\n",
    "    print('At least one of a and b is False.')\n",
    "```\n",
    "\n",
    "This is called a **conditional structure**. The code that is **indented** below the `if` and `else` statements only runs under the specified conditions.\n",
    "\n",
    "The different **branches** are checked in order (top to bottom), and only **one** is executed.\n",
    "\n",
    "You can have as many instructions as you like in each branch.\n",
    "\n",
    "---\n",
    "\n",
    "Useful **logical keywords** we can use are `and`, `or`, `not`.\n",
    "\n",
    "We can also add more branches, and **nest** these structures inside each other:\n",
    "\n",
    "```python\n",
    "if a and b:\n",
    "    print('a and b are both True.')\n",
    "    print('Still true!')\n",
    "elif (not a) and (not b):\n",
    "    print('They\\'re both false.')\n",
    "else:\n",
    "    if a:\n",
    "        print('Only a is true.')\n",
    "    else:\n",
    "        print('Only b is true.')\n",
    "```"
   ]
  },
  {
   "cell_type": "code",
   "execution_count": 43,
   "metadata": {
    "slideshow": {
     "slide_type": "subslide"
    }
   },
   "outputs": [
    {
     "name": "stdout",
     "output_type": "stream",
     "text": [
      "True\n",
      "True\n"
     ]
    }
   ],
   "source": [
    "x = 10\n",
    "y = 10\n",
    "\n",
    "a = x >= y\n",
    "b = x == y\n",
    "print(a)\n",
    "print(b)"
   ]
  },
  {
   "cell_type": "markdown",
   "metadata": {
    "slideshow": {
     "slide_type": "notes"
    }
   },
   "source": [
    "We can also **construct Booleans** using **comparison operators**.\n",
    "\n",
    "```python\n",
    "x = 10\n",
    "y = 1\n",
    "\n",
    "print(x >= y)\n",
    "```"
   ]
  },
  {
   "cell_type": "markdown",
   "metadata": {
    "slideshow": {
     "slide_type": "slide"
    }
   },
   "source": [
    "# 🚩🚩🚩 Example 3\n",
    "\n",
    "Let's play **Guess the number**:"
   ]
  },
  {
   "cell_type": "code",
   "execution_count": 50,
   "metadata": {},
   "outputs": [
    {
     "name": "stdout",
     "output_type": "stream",
     "text": [
      "Guess the number! 5\n",
      "Too big! Guess again? 3\n",
      "Too big! Guess again? 1\n",
      "Too small! Guess again? 2\n",
      "Victory!\n"
     ]
    }
   ],
   "source": [
    "### Import the \"random\" library\n",
    "import random   # a comment after some code\n",
    "\n",
    "# Generate a random number between 1 and 10\n",
    "target = random.randint(1, 10)\n",
    "# target = 6\n",
    "\n",
    "# Ask user to type a number\n",
    "guess = int(input('Guess the number! '))\n",
    "\n",
    "# Keep guessing while we haven't guessed correctly yet\n",
    "while target != guess:\n",
    "    if guess < target:\n",
    "        guess = int(input('Too small! Guess again? '))\n",
    "    else:\n",
    "        guess = int(input('Too big! Guess again? '))\n",
    "\n",
    "print('Victory!')"
   ]
  },
  {
   "cell_type": "markdown",
   "metadata": {
    "slideshow": {
     "slide_type": "notes"
    }
   },
   "source": [
    "There are a few new commands here, but hopefully they are fairly straightforward to understand.\n",
    "\n",
    "Let's run the code first and see how this works.\n",
    "\n",
    "---\n",
    "\n",
    "- `import` is used to bring in some added functionalities which are not available in vanilla Python. Here, we want to generate random numbers. We import the `random` library to be able to do this, using the `randint()` function.\n",
    "- `input()` is used to ask for interactive input. This is how you can type in your guesses.\n",
    "- `int()` is used to convert what you typed into an `int`. By default, it's a string, we need to tell Python to convert it to an actual number, so it can compare it to the target.\n",
    "- `while` starts a **loop**. A loop is used to **repeat** some code a certain number of times. Here, we want to repeat the command which asks us to guess again, for **as long as** the guess is not equal to the target.\n",
    "\n",
    "---\n",
    "\n",
    "The game is a little bit difficult since we guess randomly every time; how could we make it a bit easier?"
   ]
  },
  {
   "cell_type": "markdown",
   "metadata": {
    "slideshow": {
     "slide_type": "slide"
    }
   },
   "source": [
    "## Containers: lists and dictionaries\n",
    "\n",
    "Python also has objects which can *contain* several other objects inside them -- they're called **containers**."
   ]
  },
  {
   "cell_type": "code",
   "execution_count": 54,
   "metadata": {
    "slideshow": {
     "slide_type": "subslide"
    }
   },
   "outputs": [
    {
     "name": "stdout",
     "output_type": "stream",
     "text": [
      "[1, 2, 3, 10, 6]\n",
      "6\n",
      "1\n"
     ]
    }
   ],
   "source": [
    "# Create a list called a\n",
    "a = [1, 2, 3, 10, 6]\n",
    "print(a)\n",
    "print(a[4])\n",
    "print(a[0])"
   ]
  },
  {
   "cell_type": "markdown",
   "metadata": {},
   "source": [
    "<img alt=\"The list a in memory\" src=\"graphics/lists.png\" width=800px>"
   ]
  },
  {
   "cell_type": "code",
   "execution_count": 55,
   "metadata": {
    "slideshow": {
     "slide_type": "fragment"
    }
   },
   "outputs": [
    {
     "name": "stdout",
     "output_type": "stream",
     "text": [
      "[1, 2, 3, -5, 6]\n"
     ]
    }
   ],
   "source": [
    "# Change individual elements\n",
    "a[3] = -5\n",
    "print(a)"
   ]
  },
  {
   "cell_type": "markdown",
   "metadata": {
    "slideshow": {
     "slide_type": "notes"
    }
   },
   "source": [
    "I can also **change** individual elements of the list. For example, how could I change the `10` to `-5`?"
   ]
  },
  {
   "cell_type": "markdown",
   "metadata": {
    "slideshow": {
     "slide_type": "subslide"
    }
   },
   "source": [
    "We can put anything in a list -- even other lists!"
   ]
  },
  {
   "cell_type": "code",
   "execution_count": 60,
   "metadata": {},
   "outputs": [
    {
     "name": "stdout",
     "output_type": "stream",
     "text": [
      "my\n",
      "they\n"
     ]
    }
   ],
   "source": [
    "a = ['my', 1, 4.5, ['you', 'they', True], 432, -2.3, 33, [False, 1]]\n",
    "print(a[0])\n",
    "print(a[3][1])"
   ]
  },
  {
   "cell_type": "markdown",
   "metadata": {
    "slideshow": {
     "slide_type": "notes"
    }
   },
   "source": [
    "How would I print only `'they'` here? Remember that Python starts indexing at zero."
   ]
  },
  {
   "cell_type": "markdown",
   "metadata": {
    "slideshow": {
     "slide_type": "subslide"
    }
   },
   "source": [
    "**Dictionaries** are similar to lists, but indexes elements with a **label** instead of a number."
   ]
  },
  {
   "cell_type": "code",
   "execution_count": 61,
   "metadata": {},
   "outputs": [
    {
     "name": "stdout",
     "output_type": "stream",
     "text": [
      "80\n",
      "{'Alice': 80, 'Bob': 64, 'Charlie': 72, 'Dara': 99}\n"
     ]
    }
   ],
   "source": [
    "# Create a dictionary called scores\n",
    "scores = {'Alice': 80, 'Bob': 64, 'Charlie': 72}\n",
    "print(scores['Alice'])\n",
    "\n",
    "scores['Dara'] = 99\n",
    "print(scores)"
   ]
  },
  {
   "cell_type": "markdown",
   "metadata": {},
   "source": [
    "<img alt=\"The dictionary scores in memory\" src=\"graphics/dict.png\" width=800px>"
   ]
  },
  {
   "cell_type": "markdown",
   "metadata": {
    "slideshow": {
     "slide_type": "notes"
    }
   },
   "source": [
    "I can easily add new elements to a dictionary:\n",
    "\n",
    "```python\n",
    "scores['Dara'] = 99\n",
    "print(scores)\n",
    "```"
   ]
  },
  {
   "cell_type": "markdown",
   "metadata": {
    "slideshow": {
     "slide_type": "slide"
    }
   },
   "source": [
    "## Python and data: the `pandas` library\n",
    "\n",
    "A **library** is a bit like an extra toolbox with specialist tools.\n",
    "\n",
    "`pandas` (Python Data Analysis Library) is particularly useful to deal with data."
   ]
  },
  {
   "cell_type": "code",
   "execution_count": 62,
   "metadata": {},
   "outputs": [],
   "source": [
    "import pandas as pd\n"
   ]
  },
  {
   "cell_type": "markdown",
   "metadata": {},
   "source": [
    "We'll use the [astronauts database](https://github.com/rfordatascience/tidytuesday/tree/master/data/2020/2020-07-14)."
   ]
  },
  {
   "cell_type": "code",
   "execution_count": 63,
   "metadata": {
    "slideshow": {
     "slide_type": "fragment"
    }
   },
   "outputs": [
    {
     "name": "stdout",
     "output_type": "stream",
     "text": [
      "<class 'pandas.core.frame.DataFrame'>\n"
     ]
    }
   ],
   "source": [
    "astronauts = pd.read_csv('astronauts.csv')\n",
    "print(type(astronauts))"
   ]
  },
  {
   "cell_type": "markdown",
   "metadata": {
    "slideshow": {
     "slide_type": "notes"
    }
   },
   "source": [
    "For the second part of this session, I'm going to show you some examples of various things we can do with data in Python, using a library called **pandas** for manipulating data, and another library called **seaborn** for visualising data."
   ]
  },
  {
   "cell_type": "markdown",
   "metadata": {
    "slideshow": {
     "slide_type": "subslide"
    }
   },
   "source": [
    "# 🚩🚩🚩 Example 4\n",
    "\n",
    "Run the cell below to import pandas and read the CSV file."
   ]
  },
  {
   "cell_type": "code",
   "execution_count": 64,
   "metadata": {},
   "outputs": [],
   "source": [
    "import pandas as pd\n",
    "astronauts = pd.read_csv('astronauts.csv')"
   ]
  },
  {
   "cell_type": "markdown",
   "metadata": {
    "slideshow": {
     "slide_type": "subslide"
    }
   },
   "source": [
    "Then, try these commands (one at a time):\n",
    "\n",
    "```python\n",
    "print(astronauts.columns)\n",
    "astronauts.head()\n",
    "astronauts.tail()\n",
    "astronauts.head(10)\n",
    "```"
   ]
  },
  {
   "cell_type": "code",
   "execution_count": 68,
   "metadata": {},
   "outputs": [
    {
     "data": {
      "text/html": [
       "<div>\n",
       "<style scoped>\n",
       "    .dataframe tbody tr th:only-of-type {\n",
       "        vertical-align: middle;\n",
       "    }\n",
       "\n",
       "    .dataframe tbody tr th {\n",
       "        vertical-align: top;\n",
       "    }\n",
       "\n",
       "    .dataframe thead th {\n",
       "        text-align: right;\n",
       "    }\n",
       "</style>\n",
       "<table border=\"1\" class=\"dataframe\">\n",
       "  <thead>\n",
       "    <tr style=\"text-align: right;\">\n",
       "      <th></th>\n",
       "      <th>id</th>\n",
       "      <th>number</th>\n",
       "      <th>nationwide_number</th>\n",
       "      <th>name</th>\n",
       "      <th>original_name</th>\n",
       "      <th>sex</th>\n",
       "      <th>year_of_birth</th>\n",
       "      <th>nationality</th>\n",
       "      <th>military_civilian</th>\n",
       "      <th>selection</th>\n",
       "      <th>...</th>\n",
       "      <th>year_of_mission</th>\n",
       "      <th>mission_title</th>\n",
       "      <th>ascend_shuttle</th>\n",
       "      <th>in_orbit</th>\n",
       "      <th>descend_shuttle</th>\n",
       "      <th>hours_mission</th>\n",
       "      <th>total_hrs_sum</th>\n",
       "      <th>field21</th>\n",
       "      <th>eva_hrs_mission</th>\n",
       "      <th>total_eva_hrs</th>\n",
       "    </tr>\n",
       "  </thead>\n",
       "  <tbody>\n",
       "    <tr>\n",
       "      <th>0</th>\n",
       "      <td>1</td>\n",
       "      <td>1</td>\n",
       "      <td>1</td>\n",
       "      <td>Gagarin, Yuri</td>\n",
       "      <td>ГАГАРИН Юрий Алексеевич</td>\n",
       "      <td>male</td>\n",
       "      <td>1934</td>\n",
       "      <td>U.S.S.R/Russia</td>\n",
       "      <td>military</td>\n",
       "      <td>TsPK-1</td>\n",
       "      <td>...</td>\n",
       "      <td>1961</td>\n",
       "      <td>Vostok 1</td>\n",
       "      <td>Vostok 1</td>\n",
       "      <td>Vostok 2</td>\n",
       "      <td>Vostok 3</td>\n",
       "      <td>1.77</td>\n",
       "      <td>1.77</td>\n",
       "      <td>0</td>\n",
       "      <td>0.0</td>\n",
       "      <td>0.0</td>\n",
       "    </tr>\n",
       "    <tr>\n",
       "      <th>1</th>\n",
       "      <td>2</td>\n",
       "      <td>2</td>\n",
       "      <td>2</td>\n",
       "      <td>Titov, Gherman</td>\n",
       "      <td>ТИТОВ Герман Степанович</td>\n",
       "      <td>male</td>\n",
       "      <td>1935</td>\n",
       "      <td>U.S.S.R/Russia</td>\n",
       "      <td>military</td>\n",
       "      <td>TsPK-1</td>\n",
       "      <td>...</td>\n",
       "      <td>1961</td>\n",
       "      <td>Vostok 2</td>\n",
       "      <td>Vostok 2</td>\n",
       "      <td>Vostok 2</td>\n",
       "      <td>Vostok 2</td>\n",
       "      <td>25.00</td>\n",
       "      <td>25.30</td>\n",
       "      <td>0</td>\n",
       "      <td>0.0</td>\n",
       "      <td>0.0</td>\n",
       "    </tr>\n",
       "    <tr>\n",
       "      <th>2</th>\n",
       "      <td>3</td>\n",
       "      <td>3</td>\n",
       "      <td>1</td>\n",
       "      <td>Glenn, John H., Jr.</td>\n",
       "      <td>Glenn, John H., Jr.</td>\n",
       "      <td>male</td>\n",
       "      <td>1921</td>\n",
       "      <td>U.S.</td>\n",
       "      <td>military</td>\n",
       "      <td>NASA Astronaut Group 1</td>\n",
       "      <td>...</td>\n",
       "      <td>1962</td>\n",
       "      <td>MA-6</td>\n",
       "      <td>MA-6</td>\n",
       "      <td>MA-6</td>\n",
       "      <td>MA-6</td>\n",
       "      <td>5.00</td>\n",
       "      <td>218.00</td>\n",
       "      <td>0</td>\n",
       "      <td>0.0</td>\n",
       "      <td>0.0</td>\n",
       "    </tr>\n",
       "    <tr>\n",
       "      <th>3</th>\n",
       "      <td>4</td>\n",
       "      <td>3</td>\n",
       "      <td>1</td>\n",
       "      <td>Glenn, John H., Jr.</td>\n",
       "      <td>Glenn, John H., Jr.</td>\n",
       "      <td>male</td>\n",
       "      <td>1921</td>\n",
       "      <td>U.S.</td>\n",
       "      <td>military</td>\n",
       "      <td>NASA Astronaut Group 2</td>\n",
       "      <td>...</td>\n",
       "      <td>1998</td>\n",
       "      <td>STS-95</td>\n",
       "      <td>STS-95</td>\n",
       "      <td>STS-95</td>\n",
       "      <td>STS-95</td>\n",
       "      <td>213.00</td>\n",
       "      <td>218.00</td>\n",
       "      <td>0</td>\n",
       "      <td>0.0</td>\n",
       "      <td>0.0</td>\n",
       "    </tr>\n",
       "    <tr>\n",
       "      <th>4</th>\n",
       "      <td>5</td>\n",
       "      <td>4</td>\n",
       "      <td>2</td>\n",
       "      <td>Carpenter, M. Scott</td>\n",
       "      <td>Carpenter, M. Scott</td>\n",
       "      <td>male</td>\n",
       "      <td>1925</td>\n",
       "      <td>U.S.</td>\n",
       "      <td>military</td>\n",
       "      <td>NASA- 1</td>\n",
       "      <td>...</td>\n",
       "      <td>1962</td>\n",
       "      <td>Mercury-Atlas 7</td>\n",
       "      <td>Mercury-Atlas 7</td>\n",
       "      <td>Mercury-Atlas 7</td>\n",
       "      <td>Mercury-Atlas 7</td>\n",
       "      <td>5.00</td>\n",
       "      <td>5.00</td>\n",
       "      <td>0</td>\n",
       "      <td>0.0</td>\n",
       "      <td>0.0</td>\n",
       "    </tr>\n",
       "    <tr>\n",
       "      <th>5</th>\n",
       "      <td>6</td>\n",
       "      <td>5</td>\n",
       "      <td>2</td>\n",
       "      <td>Nikolayev, Andriyan</td>\n",
       "      <td>НИКОЛАЕВ Андриян Григорьевич</td>\n",
       "      <td>male</td>\n",
       "      <td>1929</td>\n",
       "      <td>U.S.S.R/Russia</td>\n",
       "      <td>military</td>\n",
       "      <td>TsPK-1</td>\n",
       "      <td>...</td>\n",
       "      <td>1962</td>\n",
       "      <td>Vostok 3</td>\n",
       "      <td>Vostok 3</td>\n",
       "      <td>Vostok 3</td>\n",
       "      <td>Vostok 3</td>\n",
       "      <td>94.00</td>\n",
       "      <td>519.33</td>\n",
       "      <td>0</td>\n",
       "      <td>0.0</td>\n",
       "      <td>0.0</td>\n",
       "    </tr>\n",
       "    <tr>\n",
       "      <th>6</th>\n",
       "      <td>7</td>\n",
       "      <td>5</td>\n",
       "      <td>2</td>\n",
       "      <td>Nikolayev, Andriyan</td>\n",
       "      <td>НИКОЛАЕВ Андриян Григорьевич</td>\n",
       "      <td>male</td>\n",
       "      <td>1929</td>\n",
       "      <td>U.S.S.R/Russia</td>\n",
       "      <td>military</td>\n",
       "      <td>TsPK-2</td>\n",
       "      <td>...</td>\n",
       "      <td>1970</td>\n",
       "      <td>Soyuz 9</td>\n",
       "      <td>Soyuz 9</td>\n",
       "      <td>Soyuz 9</td>\n",
       "      <td>Soyuz 9</td>\n",
       "      <td>424.00</td>\n",
       "      <td>519.33</td>\n",
       "      <td>0</td>\n",
       "      <td>0.0</td>\n",
       "      <td>0.0</td>\n",
       "    </tr>\n",
       "    <tr>\n",
       "      <th>7</th>\n",
       "      <td>8</td>\n",
       "      <td>6</td>\n",
       "      <td>4</td>\n",
       "      <td>Popovich, Pavel</td>\n",
       "      <td>ПОПОВИЧ Павел Романович</td>\n",
       "      <td>male</td>\n",
       "      <td>1930</td>\n",
       "      <td>U.S.S.R/Russia</td>\n",
       "      <td>military</td>\n",
       "      <td>TsPK-1</td>\n",
       "      <td>...</td>\n",
       "      <td>1962</td>\n",
       "      <td>Vostok 4</td>\n",
       "      <td>Vostok 4</td>\n",
       "      <td>Vostok 4</td>\n",
       "      <td>Vostok 4</td>\n",
       "      <td>70.93</td>\n",
       "      <td>448.45</td>\n",
       "      <td>0</td>\n",
       "      <td>0.0</td>\n",
       "      <td>0.0</td>\n",
       "    </tr>\n",
       "    <tr>\n",
       "      <th>8</th>\n",
       "      <td>9</td>\n",
       "      <td>6</td>\n",
       "      <td>4</td>\n",
       "      <td>Popovich, Pavel</td>\n",
       "      <td>ПОПОВИЧ Павел Романович</td>\n",
       "      <td>male</td>\n",
       "      <td>1930</td>\n",
       "      <td>U.S.S.R/Russia</td>\n",
       "      <td>military</td>\n",
       "      <td>TsPK-2</td>\n",
       "      <td>...</td>\n",
       "      <td>1974</td>\n",
       "      <td>Soyuz 14</td>\n",
       "      <td>Soyuz 14</td>\n",
       "      <td>Soyuz 14</td>\n",
       "      <td>Soyuz 14</td>\n",
       "      <td>377.00</td>\n",
       "      <td>448.45</td>\n",
       "      <td>0</td>\n",
       "      <td>0.0</td>\n",
       "      <td>0.0</td>\n",
       "    </tr>\n",
       "    <tr>\n",
       "      <th>9</th>\n",
       "      <td>10</td>\n",
       "      <td>7</td>\n",
       "      <td>3</td>\n",
       "      <td>Schirra, Walter M., Jr.</td>\n",
       "      <td>Schirra, Walter M., Jr.</td>\n",
       "      <td>male</td>\n",
       "      <td>1923</td>\n",
       "      <td>U.S.</td>\n",
       "      <td>military</td>\n",
       "      <td>1959 NASA group 1</td>\n",
       "      <td>...</td>\n",
       "      <td>1962</td>\n",
       "      <td>Mercury-Atlas 8</td>\n",
       "      <td>Mercury-Atlas 8</td>\n",
       "      <td>Mercury-Atlas 8</td>\n",
       "      <td>Mercury-Atlas 8</td>\n",
       "      <td>9.22</td>\n",
       "      <td>295.20</td>\n",
       "      <td>0</td>\n",
       "      <td>0.0</td>\n",
       "      <td>0.0</td>\n",
       "    </tr>\n",
       "  </tbody>\n",
       "</table>\n",
       "<p>10 rows × 24 columns</p>\n",
       "</div>"
      ],
      "text/plain": [
       "   id  number  nationwide_number                     name  \\\n",
       "0   1       1                  1            Gagarin, Yuri   \n",
       "1   2       2                  2           Titov, Gherman   \n",
       "2   3       3                  1      Glenn, John H., Jr.   \n",
       "3   4       3                  1      Glenn, John H., Jr.   \n",
       "4   5       4                  2      Carpenter, M. Scott   \n",
       "5   6       5                  2      Nikolayev, Andriyan   \n",
       "6   7       5                  2      Nikolayev, Andriyan   \n",
       "7   8       6                  4          Popovich, Pavel   \n",
       "8   9       6                  4          Popovich, Pavel   \n",
       "9  10       7                  3  Schirra, Walter M., Jr.   \n",
       "\n",
       "                  original_name   sex  year_of_birth     nationality  \\\n",
       "0       ГАГАРИН Юрий Алексеевич  male           1934  U.S.S.R/Russia   \n",
       "1       ТИТОВ Герман Степанович  male           1935  U.S.S.R/Russia   \n",
       "2           Glenn, John H., Jr.  male           1921            U.S.   \n",
       "3           Glenn, John H., Jr.  male           1921            U.S.   \n",
       "4           Carpenter, M. Scott  male           1925            U.S.   \n",
       "5  НИКОЛАЕВ Андриян Григорьевич  male           1929  U.S.S.R/Russia   \n",
       "6  НИКОЛАЕВ Андриян Григорьевич  male           1929  U.S.S.R/Russia   \n",
       "7       ПОПОВИЧ Павел Романович  male           1930  U.S.S.R/Russia   \n",
       "8       ПОПОВИЧ Павел Романович  male           1930  U.S.S.R/Russia   \n",
       "9       Schirra, Walter M., Jr.  male           1923            U.S.   \n",
       "\n",
       "  military_civilian               selection  ...  year_of_mission  \\\n",
       "0          military                  TsPK-1  ...             1961   \n",
       "1          military                  TsPK-1  ...             1961   \n",
       "2          military  NASA Astronaut Group 1  ...             1962   \n",
       "3          military  NASA Astronaut Group 2  ...             1998   \n",
       "4          military                 NASA- 1  ...             1962   \n",
       "5          military                  TsPK-1  ...             1962   \n",
       "6          military                  TsPK-2  ...             1970   \n",
       "7          military                  TsPK-1  ...             1962   \n",
       "8          military                  TsPK-2  ...             1974   \n",
       "9          military       1959 NASA group 1  ...             1962   \n",
       "\n",
       "     mission_title   ascend_shuttle         in_orbit  descend_shuttle  \\\n",
       "0         Vostok 1         Vostok 1         Vostok 2         Vostok 3   \n",
       "1         Vostok 2         Vostok 2         Vostok 2         Vostok 2   \n",
       "2             MA-6             MA-6             MA-6             MA-6   \n",
       "3           STS-95           STS-95           STS-95           STS-95   \n",
       "4  Mercury-Atlas 7  Mercury-Atlas 7  Mercury-Atlas 7  Mercury-Atlas 7   \n",
       "5         Vostok 3         Vostok 3         Vostok 3         Vostok 3   \n",
       "6          Soyuz 9          Soyuz 9          Soyuz 9          Soyuz 9   \n",
       "7         Vostok 4         Vostok 4         Vostok 4         Vostok 4   \n",
       "8         Soyuz 14         Soyuz 14         Soyuz 14         Soyuz 14   \n",
       "9  Mercury-Atlas 8  Mercury-Atlas 8  Mercury-Atlas 8  Mercury-Atlas 8   \n",
       "\n",
       "  hours_mission total_hrs_sum field21 eva_hrs_mission  total_eva_hrs  \n",
       "0          1.77          1.77       0             0.0            0.0  \n",
       "1         25.00         25.30       0             0.0            0.0  \n",
       "2          5.00        218.00       0             0.0            0.0  \n",
       "3        213.00        218.00       0             0.0            0.0  \n",
       "4          5.00          5.00       0             0.0            0.0  \n",
       "5         94.00        519.33       0             0.0            0.0  \n",
       "6        424.00        519.33       0             0.0            0.0  \n",
       "7         70.93        448.45       0             0.0            0.0  \n",
       "8        377.00        448.45       0             0.0            0.0  \n",
       "9          9.22        295.20       0             0.0            0.0  \n",
       "\n",
       "[10 rows x 24 columns]"
      ]
     },
     "execution_count": 68,
     "metadata": {},
     "output_type": "execute_result"
    }
   ],
   "source": [
    "# print(astronauts.columns)\n",
    "astronauts.head(10)"
   ]
  },
  {
   "cell_type": "markdown",
   "metadata": {
    "slideshow": {
     "slide_type": "slide"
    }
   },
   "source": [
    "## Summary statistics"
   ]
  },
  {
   "cell_type": "code",
   "execution_count": 69,
   "metadata": {
    "scrolled": false
   },
   "outputs": [
    {
     "data": {
      "text/html": [
       "<div>\n",
       "<style scoped>\n",
       "    .dataframe tbody tr th:only-of-type {\n",
       "        vertical-align: middle;\n",
       "    }\n",
       "\n",
       "    .dataframe tbody tr th {\n",
       "        vertical-align: top;\n",
       "    }\n",
       "\n",
       "    .dataframe thead th {\n",
       "        text-align: right;\n",
       "    }\n",
       "</style>\n",
       "<table border=\"1\" class=\"dataframe\">\n",
       "  <thead>\n",
       "    <tr style=\"text-align: right;\">\n",
       "      <th></th>\n",
       "      <th>id</th>\n",
       "      <th>number</th>\n",
       "      <th>nationwide_number</th>\n",
       "      <th>name</th>\n",
       "      <th>original_name</th>\n",
       "      <th>sex</th>\n",
       "      <th>year_of_birth</th>\n",
       "      <th>nationality</th>\n",
       "      <th>military_civilian</th>\n",
       "      <th>selection</th>\n",
       "      <th>...</th>\n",
       "      <th>mission_title</th>\n",
       "      <th>ascend_shuttle</th>\n",
       "      <th>in_orbit</th>\n",
       "      <th>descend_shuttle</th>\n",
       "      <th>hours_mission</th>\n",
       "      <th>total_hrs_sum</th>\n",
       "      <th>field21</th>\n",
       "      <th>eva_hrs_mission</th>\n",
       "      <th>total_eva_hrs</th>\n",
       "      <th>age</th>\n",
       "    </tr>\n",
       "  </thead>\n",
       "  <tbody>\n",
       "    <tr>\n",
       "      <th>0</th>\n",
       "      <td>1</td>\n",
       "      <td>1</td>\n",
       "      <td>1</td>\n",
       "      <td>Gagarin, Yuri</td>\n",
       "      <td>ГАГАРИН Юрий Алексеевич</td>\n",
       "      <td>male</td>\n",
       "      <td>1934</td>\n",
       "      <td>U.S.S.R/Russia</td>\n",
       "      <td>military</td>\n",
       "      <td>TsPK-1</td>\n",
       "      <td>...</td>\n",
       "      <td>Vostok 1</td>\n",
       "      <td>Vostok 1</td>\n",
       "      <td>Vostok 2</td>\n",
       "      <td>Vostok 3</td>\n",
       "      <td>1.77</td>\n",
       "      <td>1.77</td>\n",
       "      <td>0</td>\n",
       "      <td>0.0</td>\n",
       "      <td>0.0</td>\n",
       "      <td>27</td>\n",
       "    </tr>\n",
       "    <tr>\n",
       "      <th>1</th>\n",
       "      <td>2</td>\n",
       "      <td>2</td>\n",
       "      <td>2</td>\n",
       "      <td>Titov, Gherman</td>\n",
       "      <td>ТИТОВ Герман Степанович</td>\n",
       "      <td>male</td>\n",
       "      <td>1935</td>\n",
       "      <td>U.S.S.R/Russia</td>\n",
       "      <td>military</td>\n",
       "      <td>TsPK-1</td>\n",
       "      <td>...</td>\n",
       "      <td>Vostok 2</td>\n",
       "      <td>Vostok 2</td>\n",
       "      <td>Vostok 2</td>\n",
       "      <td>Vostok 2</td>\n",
       "      <td>25.00</td>\n",
       "      <td>25.30</td>\n",
       "      <td>0</td>\n",
       "      <td>0.0</td>\n",
       "      <td>0.0</td>\n",
       "      <td>26</td>\n",
       "    </tr>\n",
       "    <tr>\n",
       "      <th>2</th>\n",
       "      <td>3</td>\n",
       "      <td>3</td>\n",
       "      <td>1</td>\n",
       "      <td>Glenn, John H., Jr.</td>\n",
       "      <td>Glenn, John H., Jr.</td>\n",
       "      <td>male</td>\n",
       "      <td>1921</td>\n",
       "      <td>U.S.</td>\n",
       "      <td>military</td>\n",
       "      <td>NASA Astronaut Group 1</td>\n",
       "      <td>...</td>\n",
       "      <td>MA-6</td>\n",
       "      <td>MA-6</td>\n",
       "      <td>MA-6</td>\n",
       "      <td>MA-6</td>\n",
       "      <td>5.00</td>\n",
       "      <td>218.00</td>\n",
       "      <td>0</td>\n",
       "      <td>0.0</td>\n",
       "      <td>0.0</td>\n",
       "      <td>41</td>\n",
       "    </tr>\n",
       "    <tr>\n",
       "      <th>3</th>\n",
       "      <td>4</td>\n",
       "      <td>3</td>\n",
       "      <td>1</td>\n",
       "      <td>Glenn, John H., Jr.</td>\n",
       "      <td>Glenn, John H., Jr.</td>\n",
       "      <td>male</td>\n",
       "      <td>1921</td>\n",
       "      <td>U.S.</td>\n",
       "      <td>military</td>\n",
       "      <td>NASA Astronaut Group 2</td>\n",
       "      <td>...</td>\n",
       "      <td>STS-95</td>\n",
       "      <td>STS-95</td>\n",
       "      <td>STS-95</td>\n",
       "      <td>STS-95</td>\n",
       "      <td>213.00</td>\n",
       "      <td>218.00</td>\n",
       "      <td>0</td>\n",
       "      <td>0.0</td>\n",
       "      <td>0.0</td>\n",
       "      <td>77</td>\n",
       "    </tr>\n",
       "    <tr>\n",
       "      <th>4</th>\n",
       "      <td>5</td>\n",
       "      <td>4</td>\n",
       "      <td>2</td>\n",
       "      <td>Carpenter, M. Scott</td>\n",
       "      <td>Carpenter, M. Scott</td>\n",
       "      <td>male</td>\n",
       "      <td>1925</td>\n",
       "      <td>U.S.</td>\n",
       "      <td>military</td>\n",
       "      <td>NASA- 1</td>\n",
       "      <td>...</td>\n",
       "      <td>Mercury-Atlas 7</td>\n",
       "      <td>Mercury-Atlas 7</td>\n",
       "      <td>Mercury-Atlas 7</td>\n",
       "      <td>Mercury-Atlas 7</td>\n",
       "      <td>5.00</td>\n",
       "      <td>5.00</td>\n",
       "      <td>0</td>\n",
       "      <td>0.0</td>\n",
       "      <td>0.0</td>\n",
       "      <td>37</td>\n",
       "    </tr>\n",
       "  </tbody>\n",
       "</table>\n",
       "<p>5 rows × 25 columns</p>\n",
       "</div>"
      ],
      "text/plain": [
       "   id  number  nationwide_number                 name  \\\n",
       "0   1       1                  1        Gagarin, Yuri   \n",
       "1   2       2                  2       Titov, Gherman   \n",
       "2   3       3                  1  Glenn, John H., Jr.   \n",
       "3   4       3                  1  Glenn, John H., Jr.   \n",
       "4   5       4                  2  Carpenter, M. Scott   \n",
       "\n",
       "             original_name   sex  year_of_birth     nationality  \\\n",
       "0  ГАГАРИН Юрий Алексеевич  male           1934  U.S.S.R/Russia   \n",
       "1  ТИТОВ Герман Степанович  male           1935  U.S.S.R/Russia   \n",
       "2      Glenn, John H., Jr.  male           1921            U.S.   \n",
       "3      Glenn, John H., Jr.  male           1921            U.S.   \n",
       "4      Carpenter, M. Scott  male           1925            U.S.   \n",
       "\n",
       "  military_civilian               selection  ...    mission_title  \\\n",
       "0          military                  TsPK-1  ...         Vostok 1   \n",
       "1          military                  TsPK-1  ...         Vostok 2   \n",
       "2          military  NASA Astronaut Group 1  ...             MA-6   \n",
       "3          military  NASA Astronaut Group 2  ...           STS-95   \n",
       "4          military                 NASA- 1  ...  Mercury-Atlas 7   \n",
       "\n",
       "    ascend_shuttle         in_orbit  descend_shuttle  hours_mission  \\\n",
       "0         Vostok 1         Vostok 2         Vostok 3           1.77   \n",
       "1         Vostok 2         Vostok 2         Vostok 2          25.00   \n",
       "2             MA-6             MA-6             MA-6           5.00   \n",
       "3           STS-95           STS-95           STS-95         213.00   \n",
       "4  Mercury-Atlas 7  Mercury-Atlas 7  Mercury-Atlas 7           5.00   \n",
       "\n",
       "  total_hrs_sum field21 eva_hrs_mission total_eva_hrs  age  \n",
       "0          1.77       0             0.0           0.0   27  \n",
       "1         25.30       0             0.0           0.0   26  \n",
       "2        218.00       0             0.0           0.0   41  \n",
       "3        218.00       0             0.0           0.0   77  \n",
       "4          5.00       0             0.0           0.0   37  \n",
       "\n",
       "[5 rows x 25 columns]"
      ]
     },
     "execution_count": 69,
     "metadata": {},
     "output_type": "execute_result"
    }
   ],
   "source": [
    "astronauts['age'] = astronauts['year_of_mission'] - astronauts['year_of_birth']\n",
    "astronauts.head()"
   ]
  },
  {
   "cell_type": "code",
   "execution_count": 70,
   "metadata": {
    "slideshow": {
     "slide_type": "subslide"
    }
   },
   "outputs": [
    {
     "data": {
      "text/plain": [
       "count    1277.000000\n",
       "mean       42.913861\n",
       "std         5.819552\n",
       "min        26.000000\n",
       "25%        39.000000\n",
       "50%        42.000000\n",
       "75%        47.000000\n",
       "max        77.000000\n",
       "Name: age, dtype: float64"
      ]
     },
     "execution_count": 70,
     "metadata": {},
     "output_type": "execute_result"
    }
   ],
   "source": [
    "astronauts['age'].describe()"
   ]
  },
  {
   "cell_type": "code",
   "execution_count": 74,
   "metadata": {},
   "outputs": [
    {
     "data": {
      "text/html": [
       "<div>\n",
       "<style scoped>\n",
       "    .dataframe tbody tr th:only-of-type {\n",
       "        vertical-align: middle;\n",
       "    }\n",
       "\n",
       "    .dataframe tbody tr th {\n",
       "        vertical-align: top;\n",
       "    }\n",
       "\n",
       "    .dataframe thead th {\n",
       "        text-align: right;\n",
       "    }\n",
       "</style>\n",
       "<table border=\"1\" class=\"dataframe\">\n",
       "  <thead>\n",
       "    <tr style=\"text-align: right;\">\n",
       "      <th></th>\n",
       "      <th>name</th>\n",
       "      <th>age</th>\n",
       "    </tr>\n",
       "  </thead>\n",
       "  <tbody>\n",
       "    <tr>\n",
       "      <th>3</th>\n",
       "      <td>Glenn, John H., Jr.</td>\n",
       "      <td>77</td>\n",
       "    </tr>\n",
       "    <tr>\n",
       "      <th>230</th>\n",
       "      <td>Musgrave, Franklin Story</td>\n",
       "      <td>61</td>\n",
       "    </tr>\n",
       "    <tr>\n",
       "      <th>998</th>\n",
       "      <td>Tito, Dennis Anthony</td>\n",
       "      <td>61</td>\n",
       "    </tr>\n",
       "    <tr>\n",
       "      <th>1096</th>\n",
       "      <td>Simonyi, Charles (Karoly)</td>\n",
       "      <td>61</td>\n",
       "    </tr>\n",
       "    <tr>\n",
       "      <th>1118</th>\n",
       "      <td>Nespoli, Paolo A.</td>\n",
       "      <td>60</td>\n",
       "    </tr>\n",
       "    <tr>\n",
       "      <th>892</th>\n",
       "      <td>Vinogradov, Pavel</td>\n",
       "      <td>60</td>\n",
       "    </tr>\n",
       "    <tr>\n",
       "      <th>1066</th>\n",
       "      <td>Olsen, Gregory Hammond</td>\n",
       "      <td>60</td>\n",
       "    </tr>\n",
       "    <tr>\n",
       "      <th>82</th>\n",
       "      <td>Chrétien, Jean-Loup</td>\n",
       "      <td>59</td>\n",
       "    </tr>\n",
       "    <tr>\n",
       "      <th>176</th>\n",
       "      <td>Ryumin, Valery</td>\n",
       "      <td>59</td>\n",
       "    </tr>\n",
       "    <tr>\n",
       "      <th>1095</th>\n",
       "      <td>Simonyi, Charles (Karoly)</td>\n",
       "      <td>59</td>\n",
       "    </tr>\n",
       "  </tbody>\n",
       "</table>\n",
       "</div>"
      ],
      "text/plain": [
       "                           name  age\n",
       "3           Glenn, John H., Jr.   77\n",
       "230    Musgrave, Franklin Story   61\n",
       "998        Tito, Dennis Anthony   61\n",
       "1096  Simonyi, Charles (Karoly)   61\n",
       "1118          Nespoli, Paolo A.   60\n",
       "892           Vinogradov, Pavel   60\n",
       "1066     Olsen, Gregory Hammond   60\n",
       "82          Chrétien, Jean-Loup   59\n",
       "176              Ryumin, Valery   59\n",
       "1095  Simonyi, Charles (Karoly)   59"
      ]
     },
     "execution_count": 74,
     "metadata": {},
     "output_type": "execute_result"
    }
   ],
   "source": [
    "# Find the name of the 5 oldest astronauts\n",
    "astronauts[['name', 'age']].sort_values(by='age', ascending=False).head(10)"
   ]
  },
  {
   "cell_type": "markdown",
   "metadata": {
    "slideshow": {
     "slide_type": "slide"
    }
   },
   "source": [
    "## Data visualisation with `seaborn`\n",
    "\n",
    "The `seaborn` documentation has a great [examples gallery](https://seaborn.pydata.org/examples/index.html). Let's visualise some of the astronauts data.\n",
    "\n",
    "# 🚩🚩🚩 Example 5\n",
    "\n",
    "We want to show the **distribution** of **military vs. civilian** *and* **male vs. female** astronauts over the years."
   ]
  },
  {
   "cell_type": "code",
   "execution_count": 79,
   "metadata": {},
   "outputs": [],
   "source": [
    "# astronauts['military_civilian'].head(50)"
   ]
  },
  {
   "cell_type": "code",
   "execution_count": 83,
   "metadata": {
    "scrolled": false
   },
   "outputs": [
    {
     "data": {
      "text/plain": [
       "<seaborn.axisgrid.FacetGrid at 0x7f9c58e58610>"
      ]
     },
     "execution_count": 83,
     "metadata": {},
     "output_type": "execute_result"
    },
    {
     "data": {
      "image/png": "[encoded data removed]",
      "text/plain": [
       "<Figure size 934.5x432 with 2 Axes>"
      ]
     },
     "metadata": {
      "needs_background": "light"
     },
     "output_type": "display_data"
    }
   ],
   "source": [
    "import seaborn as sns\n",
    "\n",
    "# Plot histograms using catplot\n",
    "grid = sns.catplot(data=astronauts,           # the dataframe\n",
    "                   x='year_of_mission',       # the x-axis (the bins)\n",
    "                   col='military_civilian',   # separate plots for each value in the column 'military_civilian'\n",
    "                   hue='sex',                 # different colours (hues) for male and female astronauts\n",
    "                   kind='count',              # the type of plot (countplot, or a histogram)\n",
    "                   legend=True,               # display the legend for the different colours\n",
    "                   col_wrap=1,                # start new row of subplots after just 1 plot\n",
    "                   height=3,                  # height of each plot\n",
    "                   aspect=4)                  # aspect ratio of each plot (width/height)\n",
    "\n",
    "# Rotate the tick labels so we can read them all\n",
    "grid.set_xticklabels(rotation=45,\n",
    "                     verticalalignment='top',\n",
    "                     horizontalalignment='right')"
   ]
  },
  {
   "cell_type": "markdown",
   "metadata": {
    "slideshow": {
     "slide_type": "subslide"
    }
   },
   "source": [
    "Let's look at flights to Mir and to the International Space Station."
   ]
  },
  {
   "cell_type": "code",
   "execution_count": 85,
   "metadata": {},
   "outputs": [],
   "source": [
    "%matplotlib notebook"
   ]
  },
  {
   "cell_type": "code",
   "execution_count": 91,
   "metadata": {},
   "outputs": [],
   "source": [
    "# \"|\" here means \"or\", but works on whole dataframes\n",
    "rows = (astronauts['in_orbit'] == 'Mir') | (astronauts['in_orbit'] == 'ISS')\n",
    "columns = ['year_of_mission', 'ascend_shuttle', 'in_orbit', 'hours_mission']\n",
    "station_trips = astronauts.loc[rows, columns]\n",
    "# station_trips.head(50)"
   ]
  },
  {
   "cell_type": "code",
   "execution_count": 92,
   "metadata": {
    "scrolled": false
   },
   "outputs": [
    {
     "data": {
      "application/javascript": [
       "/* Put everything inside the global mpl namespace */\n",
       "/* global mpl */\n",
       "window.mpl = {};\n",
       "\n",
       "mpl.get_websocket_type = function () {\n",
       "    if (typeof WebSocket !== 'undefined') {\n",
       "        return WebSocket;\n",
       "    } else if (typeof MozWebSocket !== 'undefined') {\n",
       "        return MozWebSocket;\n",
       "    } else {\n",
       "        alert(\n",
       "            'Your browser does not have WebSocket support. ' +\n",
       "                'Please try Chrome, Safari or Firefox ≥ 6. ' +\n",
       "                'Firefox 4 and 5 are also supported but you ' +\n",
       "                'have to enable WebSockets in about:config.'\n",
       "        );\n",
       "    }\n",
       "};\n",
       "\n",
       "mpl.figure = function (figure_id, websocket, ondownload, parent_element) {\n",
       "    this.id = figure_id;\n",
       "\n",
       "    this.ws = websocket;\n",
       "\n",
       "    this.supports_binary = this.ws.binaryType !== undefined;\n",
       "\n",
       "    if (!this.supports_binary) {\n",
       "        var warnings = document.getElementById('mpl-warnings');\n",
       "        if (warnings) {\n",
       "            warnings.style.display = 'block';\n",
       "            warnings.textContent =\n",
       "                'This browser does not support binary websocket messages. ' +\n",
       "                'Performance may be slow.';\n",
       "        }\n",
       "    }\n",
       "\n",
       "    this.imageObj = new Image();\n",
       "\n",
       "    this.context = undefined;\n",
       "    this.message = undefined;\n",
       "    this.canvas = undefined;\n",
       "    this.rubberband_canvas = undefined;\n",
       "    this.rubberband_context = undefined;\n",
       "    this.format_dropdown = undefined;\n",
       "\n",
       "    this.image_mode = 'full';\n",
       "\n",
       "    this.root = document.createElement('div');\n",
       "    this.root.setAttribute('style', 'display: inline-block');\n",
       "    this._root_extra_style(this.root);\n",
       "\n",
       "    parent_element.appendChild(this.root);\n",
       "\n",
       "    this._init_header(this);\n",
       "    this._init_canvas(this);\n",
       "    this._init_toolbar(this);\n",
       "\n",
       "    var fig = this;\n",
       "\n",
       "    this.waiting = false;\n",
       "\n",
       "    this.ws.onopen = function () {\n",
       "        fig.send_message('supports_binary', { value: fig.supports_binary });\n",
       "        fig.send_message('send_image_mode', {});\n",
       "        if (fig.ratio !== 1) {\n",
       "            fig.send_message('set_dpi_ratio', { dpi_ratio: fig.ratio });\n",
       "        }\n",
       "        fig.send_message('refresh', {});\n",
       "    };\n",
       "\n",
       "    this.imageObj.onload = function () {\n",
       "        if (fig.image_mode === 'full') {\n",
       "            // Full images could contain transparency (where diff images\n",
       "            // almost always do), so we need to clear the canvas so that\n",
       "            // there is no ghosting.\n",
       "            fig.context.clearRect(0, 0, fig.canvas.width, fig.canvas.height);\n",
       "        }\n",
       "        fig.context.drawImage(fig.imageObj, 0, 0);\n",
       "    };\n",
       "\n",
       "    this.imageObj.onunload = function () {\n",
       "        fig.ws.close();\n",
       "    };\n",
       "\n",
       "    this.ws.onmessage = this._make_on_message_function(this);\n",
       "\n",
       "    this.ondownload = ondownload;\n",
       "};\n",
       "\n",
       "mpl.figure.prototype._init_header = function () {\n",
       "    var titlebar = document.createElement('div');\n",
       "    titlebar.classList =\n",
       "        'ui-dialog-titlebar ui-widget-header ui-corner-all ui-helper-clearfix';\n",
       "    var titletext = document.createElement('div');\n",
       "    titletext.classList = 'ui-dialog-title';\n",
       "    titletext.setAttribute(\n",
       "        'style',\n",
       "        'width: 100%; text-align: center; padding: 3px;'\n",
       "    );\n",
       "    titlebar.appendChild(titletext);\n",
       "    this.root.appendChild(titlebar);\n",
       "    this.header = titletext;\n",
       "};\n",
       "\n",
       "mpl.figure.prototype._canvas_extra_style = function (_canvas_div) {};\n",
       "\n",
       "mpl.figure.prototype._root_extra_style = function (_canvas_div) {};\n",
       "\n",
       "mpl.figure.prototype._init_canvas = function () {\n",
       "    var fig = this;\n",
       "\n",
       "    var canvas_div = (this.canvas_div = document.createElement('div'));\n",
       "    canvas_div.setAttribute(\n",
       "        'style',\n",
       "        'border: 1px solid #ddd;' +\n",
       "            'box-sizing: content-box;' +\n",
       "            'clear: both;' +\n",
       "            'min-height: 1px;' +\n",
       "            'min-width: 1px;' +\n",
       "            'outline: 0;' +\n",
       "            'overflow: hidden;' +\n",
       "            'position: relative;' +\n",
       "            'resize: both;'\n",
       "    );\n",
       "\n",
       "    function on_keyboard_event_closure(name) {\n",
       "        return function (event) {\n",
       "            return fig.key_event(event, name);\n",
       "        };\n",
       "    }\n",
       "\n",
       "    canvas_div.addEventListener(\n",
       "        'keydown',\n",
       "        on_keyboard_event_closure('key_press')\n",
       "    );\n",
       "    canvas_div.addEventListener(\n",
       "        'keyup',\n",
       "        on_keyboard_event_closure('key_release')\n",
       "    );\n",
       "\n",
       "    this._canvas_extra_style(canvas_div);\n",
       "    this.root.appendChild(canvas_div);\n",
       "\n",
       "    var canvas = (this.canvas = document.createElement('canvas'));\n",
       "    canvas.classList.add('mpl-canvas');\n",
       "    canvas.setAttribute('style', 'box-sizing: content-box;');\n",
       "\n",
       "    this.context = canvas.getContext('2d');\n",
       "\n",
       "    var backingStore =\n",
       "        this.context.backingStorePixelRatio ||\n",
       "        this.context.webkitBackingStorePixelRatio ||\n",
       "        this.context.mozBackingStorePixelRatio ||\n",
       "        this.context.msBackingStorePixelRatio ||\n",
       "        this.context.oBackingStorePixelRatio ||\n",
       "        this.context.backingStorePixelRatio ||\n",
       "        1;\n",
       "\n",
       "    this.ratio = (window.devicePixelRatio || 1) / backingStore;\n",
       "\n",
       "    var rubberband_canvas = (this.rubberband_canvas = document.createElement(\n",
       "        'canvas'\n",
       "    ));\n",
       "    rubberband_canvas.setAttribute(\n",
       "        'style',\n",
       "        'box-sizing: content-box; position: absolute; left: 0; top: 0; z-index: 1;'\n",
       "    );\n",
       "\n",
       "    // Apply a ponyfill if ResizeObserver is not implemented by browser.\n",
       "    if (this.ResizeObserver === undefined) {\n",
       "        if (window.ResizeObserver !== undefined) {\n",
       "            this.ResizeObserver = window.ResizeObserver;\n",
       "        } else {\n",
       "            var obs = _JSXTOOLS_RESIZE_OBSERVER({});\n",
       "            this.ResizeObserver = obs.ResizeObserver;\n",
       "        }\n",
       "    }\n",
       "\n",
       "    this.resizeObserverInstance = new this.ResizeObserver(function (entries) {\n",
       "        var nentries = entries.length;\n",
       "        for (var i = 0; i < nentries; i++) {\n",
       "            var entry = entries[i];\n",
       "            var width, height;\n",
       "            if (entry.contentBoxSize) {\n",
       "                if (entry.contentBoxSize instanceof Array) {\n",
       "                    // Chrome 84 implements new version of spec.\n",
       "                    width = entry.contentBoxSize[0].inlineSize;\n",
       "                    height = entry.contentBoxSize[0].blockSize;\n",
       "                } else {\n",
       "                    // Firefox implements old version of spec.\n",
       "                    width = entry.contentBoxSize.inlineSize;\n",
       "                    height = entry.contentBoxSize.blockSize;\n",
       "                }\n",
       "            } else {\n",
       "                // Chrome <84 implements even older version of spec.\n",
       "                width = entry.contentRect.width;\n",
       "                height = entry.contentRect.height;\n",
       "            }\n",
       "\n",
       "            // Keep the size of the canvas and rubber band canvas in sync with\n",
       "            // the canvas container.\n",
       "            if (entry.devicePixelContentBoxSize) {\n",
       "                // Chrome 84 implements new version of spec.\n",
       "                canvas.setAttribute(\n",
       "                    'width',\n",
       "                    entry.devicePixelContentBoxSize[0].inlineSize\n",
       "                );\n",
       "                canvas.setAttribute(\n",
       "                    'height',\n",
       "                    entry.devicePixelContentBoxSize[0].blockSize\n",
       "                );\n",
       "            } else {\n",
       "                canvas.setAttribute('width', width * fig.ratio);\n",
       "                canvas.setAttribute('height', height * fig.ratio);\n",
       "            }\n",
       "            canvas.setAttribute(\n",
       "                'style',\n",
       "                'width: ' + width + 'px; height: ' + height + 'px;'\n",
       "            );\n",
       "\n",
       "            rubberband_canvas.setAttribute('width', width);\n",
       "            rubberband_canvas.setAttribute('height', height);\n",
       "\n",
       "            // And update the size in Python. We ignore the initial 0/0 size\n",
       "            // that occurs as the element is placed into the DOM, which should\n",
       "            // otherwise not happen due to the minimum size styling.\n",
       "            if (fig.ws.readyState == 1 && width != 0 && height != 0) {\n",
       "                fig.request_resize(width, height);\n",
       "            }\n",
       "        }\n",
       "    });\n",
       "    this.resizeObserverInstance.observe(canvas_div);\n",
       "\n",
       "    function on_mouse_event_closure(name) {\n",
       "        return function (event) {\n",
       "            return fig.mouse_event(event, name);\n",
       "        };\n",
       "    }\n",
       "\n",
       "    rubberband_canvas.addEventListener(\n",
       "        'mousedown',\n",
       "        on_mouse_event_closure('button_press')\n",
       "    );\n",
       "    rubberband_canvas.addEventListener(\n",
       "        'mouseup',\n",
       "        on_mouse_event_closure('button_release')\n",
       "    );\n",
       "    rubberband_canvas.addEventListener(\n",
       "        'dblclick',\n",
       "        on_mouse_event_closure('dblclick')\n",
       "    );\n",
       "    // Throttle sequential mouse events to 1 every 20ms.\n",
       "    rubberband_canvas.addEventListener(\n",
       "        'mousemove',\n",
       "        on_mouse_event_closure('motion_notify')\n",
       "    );\n",
       "\n",
       "    rubberband_canvas.addEventListener(\n",
       "        'mouseenter',\n",
       "        on_mouse_event_closure('figure_enter')\n",
       "    );\n",
       "    rubberband_canvas.addEventListener(\n",
       "        'mouseleave',\n",
       "        on_mouse_event_closure('figure_leave')\n",
       "    );\n",
       "\n",
       "    canvas_div.addEventListener('wheel', function (event) {\n",
       "        if (event.deltaY < 0) {\n",
       "            event.step = 1;\n",
       "        } else {\n",
       "            event.step = -1;\n",
       "        }\n",
       "        on_mouse_event_closure('scroll')(event);\n",
       "    });\n",
       "\n",
       "    canvas_div.appendChild(canvas);\n",
       "    canvas_div.appendChild(rubberband_canvas);\n",
       "\n",
       "    this.rubberband_context = rubberband_canvas.getContext('2d');\n",
       "    this.rubberband_context.strokeStyle = '#000000';\n",
       "\n",
       "    this._resize_canvas = function (width, height, forward) {\n",
       "        if (forward) {\n",
       "            canvas_div.style.width = width + 'px';\n",
       "            canvas_div.style.height = height + 'px';\n",
       "        }\n",
       "    };\n",
       "\n",
       "    // Disable right mouse context menu.\n",
       "    this.rubberband_canvas.addEventListener('contextmenu', function (_e) {\n",
       "        event.preventDefault();\n",
       "        return false;\n",
       "    });\n",
       "\n",
       "    function set_focus() {\n",
       "        canvas.focus();\n",
       "        canvas_div.focus();\n",
       "    }\n",
       "\n",
       "    window.setTimeout(set_focus, 100);\n",
       "};\n",
       "\n",
       "mpl.figure.prototype._init_toolbar = function () {\n",
       "    var fig = this;\n",
       "\n",
       "    var toolbar = document.createElement('div');\n",
       "    toolbar.classList = 'mpl-toolbar';\n",
       "    this.root.appendChild(toolbar);\n",
       "\n",
       "    function on_click_closure(name) {\n",
       "        return function (_event) {\n",
       "            return fig.toolbar_button_onclick(name);\n",
       "        };\n",
       "    }\n",
       "\n",
       "    function on_mouseover_closure(tooltip) {\n",
       "        return function (event) {\n",
       "            if (!event.currentTarget.disabled) {\n",
       "                return fig.toolbar_button_onmouseover(tooltip);\n",
       "            }\n",
       "        };\n",
       "    }\n",
       "\n",
       "    fig.buttons = {};\n",
       "    var buttonGroup = document.createElement('div');\n",
       "    buttonGroup.classList = 'mpl-button-group';\n",
       "    for (var toolbar_ind in mpl.toolbar_items) {\n",
       "        var name = mpl.toolbar_items[toolbar_ind][0];\n",
       "        var tooltip = mpl.toolbar_items[toolbar_ind][1];\n",
       "        var image = mpl.toolbar_items[toolbar_ind][2];\n",
       "        var method_name = mpl.toolbar_items[toolbar_ind][3];\n",
       "\n",
       "        if (!name) {\n",
       "            /* Instead of a spacer, we start a new button group. */\n",
       "            if (buttonGroup.hasChildNodes()) {\n",
       "                toolbar.appendChild(buttonGroup);\n",
       "            }\n",
       "            buttonGroup = document.createElement('div');\n",
       "            buttonGroup.classList = 'mpl-button-group';\n",
       "            continue;\n",
       "        }\n",
       "\n",
       "        var button = (fig.buttons[name] = document.createElement('button'));\n",
       "        button.classList = 'mpl-widget';\n",
       "        button.setAttribute('role', 'button');\n",
       "        button.setAttribute('aria-disabled', 'false');\n",
       "        button.addEventListener('click', on_click_closure(method_name));\n",
       "        button.addEventListener('mouseover', on_mouseover_closure(tooltip));\n",
       "\n",
       "        var icon_img = document.createElement('img');\n",
       "        icon_img.src = '_images/' + image + '.png';\n",
       "        icon_img.srcset = '_images/' + image + '_large.png 2x';\n",
       "        icon_img.alt = tooltip;\n",
       "        button.appendChild(icon_img);\n",
       "\n",
       "        buttonGroup.appendChild(button);\n",
       "    }\n",
       "\n",
       "    if (buttonGroup.hasChildNodes()) {\n",
       "        toolbar.appendChild(buttonGroup);\n",
       "    }\n",
       "\n",
       "    var fmt_picker = document.createElement('select');\n",
       "    fmt_picker.classList = 'mpl-widget';\n",
       "    toolbar.appendChild(fmt_picker);\n",
       "    this.format_dropdown = fmt_picker;\n",
       "\n",
       "    for (var ind in mpl.extensions) {\n",
       "        var fmt = mpl.extensions[ind];\n",
       "        var option = document.createElement('option');\n",
       "        option.selected = fmt === mpl.default_extension;\n",
       "        option.innerHTML = fmt;\n",
       "        fmt_picker.appendChild(option);\n",
       "    }\n",
       "\n",
       "    var status_bar = document.createElement('span');\n",
       "    status_bar.classList = 'mpl-message';\n",
       "    toolbar.appendChild(status_bar);\n",
       "    this.message = status_bar;\n",
       "};\n",
       "\n",
       "mpl.figure.prototype.request_resize = function (x_pixels, y_pixels) {\n",
       "    // Request matplotlib to resize the figure. Matplotlib will then trigger a resize in the client,\n",
       "    // which will in turn request a refresh of the image.\n",
       "    this.send_message('resize', { width: x_pixels, height: y_pixels });\n",
       "};\n",
       "\n",
       "mpl.figure.prototype.send_message = function (type, properties) {\n",
       "    properties['type'] = type;\n",
       "    properties['figure_id'] = this.id;\n",
       "    this.ws.send(JSON.stringify(properties));\n",
       "};\n",
       "\n",
       "mpl.figure.prototype.send_draw_message = function () {\n",
       "    if (!this.waiting) {\n",
       "        this.waiting = true;\n",
       "        this.ws.send(JSON.stringify({ type: 'draw', figure_id: this.id }));\n",
       "    }\n",
       "};\n",
       "\n",
       "mpl.figure.prototype.handle_save = function (fig, _msg) {\n",
       "    var format_dropdown = fig.format_dropdown;\n",
       "    var format = format_dropdown.options[format_dropdown.selectedIndex].value;\n",
       "    fig.ondownload(fig, format);\n",
       "};\n",
       "\n",
       "mpl.figure.prototype.handle_resize = function (fig, msg) {\n",
       "    var size = msg['size'];\n",
       "    if (size[0] !== fig.canvas.width || size[1] !== fig.canvas.height) {\n",
       "        fig._resize_canvas(size[0], size[1], msg['forward']);\n",
       "        fig.send_message('refresh', {});\n",
       "    }\n",
       "};\n",
       "\n",
       "mpl.figure.prototype.handle_rubberband = function (fig, msg) {\n",
       "    var x0 = msg['x0'] / fig.ratio;\n",
       "    var y0 = (fig.canvas.height - msg['y0']) / fig.ratio;\n",
       "    var x1 = msg['x1'] / fig.ratio;\n",
       "    var y1 = (fig.canvas.height - msg['y1']) / fig.ratio;\n",
       "    x0 = Math.floor(x0) + 0.5;\n",
       "    y0 = Math.floor(y0) + 0.5;\n",
       "    x1 = Math.floor(x1) + 0.5;\n",
       "    y1 = Math.floor(y1) + 0.5;\n",
       "    var min_x = Math.min(x0, x1);\n",
       "    var min_y = Math.min(y0, y1);\n",
       "    var width = Math.abs(x1 - x0);\n",
       "    var height = Math.abs(y1 - y0);\n",
       "\n",
       "    fig.rubberband_context.clearRect(\n",
       "        0,\n",
       "        0,\n",
       "        fig.canvas.width / fig.ratio,\n",
       "        fig.canvas.height / fig.ratio\n",
       "    );\n",
       "\n",
       "    fig.rubberband_context.strokeRect(min_x, min_y, width, height);\n",
       "};\n",
       "\n",
       "mpl.figure.prototype.handle_figure_label = function (fig, msg) {\n",
       "    // Updates the figure title.\n",
       "    fig.header.textContent = msg['label'];\n",
       "};\n",
       "\n",
       "mpl.figure.prototype.handle_cursor = function (fig, msg) {\n",
       "    var cursor = msg['cursor'];\n",
       "    switch (cursor) {\n",
       "        case 0:\n",
       "            cursor = 'pointer';\n",
       "            break;\n",
       "        case 1:\n",
       "            cursor = 'default';\n",
       "            break;\n",
       "        case 2:\n",
       "            cursor = 'crosshair';\n",
       "            break;\n",
       "        case 3:\n",
       "            cursor = 'move';\n",
       "            break;\n",
       "    }\n",
       "    fig.rubberband_canvas.style.cursor = cursor;\n",
       "};\n",
       "\n",
       "mpl.figure.prototype.handle_message = function (fig, msg) {\n",
       "    fig.message.textContent = msg['message'];\n",
       "};\n",
       "\n",
       "mpl.figure.prototype.handle_draw = function (fig, _msg) {\n",
       "    // Request the server to send over a new figure.\n",
       "    fig.send_draw_message();\n",
       "};\n",
       "\n",
       "mpl.figure.prototype.handle_image_mode = function (fig, msg) {\n",
       "    fig.image_mode = msg['mode'];\n",
       "};\n",
       "\n",
       "mpl.figure.prototype.handle_history_buttons = function (fig, msg) {\n",
       "    for (var key in msg) {\n",
       "        if (!(key in fig.buttons)) {\n",
       "            continue;\n",
       "        }\n",
       "        fig.buttons[key].disabled = !msg[key];\n",
       "        fig.buttons[key].setAttribute('aria-disabled', !msg[key]);\n",
       "    }\n",
       "};\n",
       "\n",
       "mpl.figure.prototype.handle_navigate_mode = function (fig, msg) {\n",
       "    if (msg['mode'] === 'PAN') {\n",
       "        fig.buttons['Pan'].classList.add('active');\n",
       "        fig.buttons['Zoom'].classList.remove('active');\n",
       "    } else if (msg['mode'] === 'ZOOM') {\n",
       "        fig.buttons['Pan'].classList.remove('active');\n",
       "        fig.buttons['Zoom'].classList.add('active');\n",
       "    } else {\n",
       "        fig.buttons['Pan'].classList.remove('active');\n",
       "        fig.buttons['Zoom'].classList.remove('active');\n",
       "    }\n",
       "};\n",
       "\n",
       "mpl.figure.prototype.updated_canvas_event = function () {\n",
       "    // Called whenever the canvas gets updated.\n",
       "    this.send_message('ack', {});\n",
       "};\n",
       "\n",
       "// A function to construct a web socket function for onmessage handling.\n",
       "// Called in the figure constructor.\n",
       "mpl.figure.prototype._make_on_message_function = function (fig) {\n",
       "    return function socket_on_message(evt) {\n",
       "        if (evt.data instanceof Blob) {\n",
       "            var img = evt.data;\n",
       "            if (img.type !== 'image/png') {\n",
       "                /* FIXME: We get \"Resource interpreted as Image but\n",
       "                 * transferred with MIME type text/plain:\" errors on\n",
       "                 * Chrome.  But how to set the MIME type?  It doesn't seem\n",
       "                 * to be part of the websocket stream */\n",
       "                img.type = 'image/png';\n",
       "            }\n",
       "\n",
       "            /* Free the memory for the previous frames */\n",
       "            if (fig.imageObj.src) {\n",
       "                (window.URL || window.webkitURL).revokeObjectURL(\n",
       "                    fig.imageObj.src\n",
       "                );\n",
       "            }\n",
       "\n",
       "            fig.imageObj.src = (window.URL || window.webkitURL).createObjectURL(\n",
       "                img\n",
       "            );\n",
       "            fig.updated_canvas_event();\n",
       "            fig.waiting = false;\n",
       "            return;\n",
       "        } else if (\n",
       "            typeof evt.data === 'string' &&\n",
       "            evt.data.slice(0, 21) === 'data:image/png;base64'\n",
       "        ) {\n",
       "            fig.imageObj.src = evt.data;\n",
       "            fig.updated_canvas_event();\n",
       "            fig.waiting = false;\n",
       "            return;\n",
       "        }\n",
       "\n",
       "        var msg = JSON.parse(evt.data);\n",
       "        var msg_type = msg['type'];\n",
       "\n",
       "        // Call the  \"handle_{type}\" callback, which takes\n",
       "        // the figure and JSON message as its only arguments.\n",
       "        try {\n",
       "            var callback = fig['handle_' + msg_type];\n",
       "        } catch (e) {\n",
       "            console.log(\n",
       "                \"No handler for the '\" + msg_type + \"' message type: \",\n",
       "                msg\n",
       "            );\n",
       "            return;\n",
       "        }\n",
       "\n",
       "        if (callback) {\n",
       "            try {\n",
       "                // console.log(\"Handling '\" + msg_type + \"' message: \", msg);\n",
       "                callback(fig, msg);\n",
       "            } catch (e) {\n",
       "                console.log(\n",
       "                    \"Exception inside the 'handler_\" + msg_type + \"' callback:\",\n",
       "                    e,\n",
       "                    e.stack,\n",
       "                    msg\n",
       "                );\n",
       "            }\n",
       "        }\n",
       "    };\n",
       "};\n",
       "\n",
       "// from http://stackoverflow.com/questions/1114465/getting-mouse-location-in-canvas\n",
       "mpl.findpos = function (e) {\n",
       "    //this section is from http://www.quirksmode.org/js/events_properties.html\n",
       "    var targ;\n",
       "    if (!e) {\n",
       "        e = window.event;\n",
       "    }\n",
       "    if (e.target) {\n",
       "        targ = e.target;\n",
       "    } else if (e.srcElement) {\n",
       "        targ = e.srcElement;\n",
       "    }\n",
       "    if (targ.nodeType === 3) {\n",
       "        // defeat Safari bug\n",
       "        targ = targ.parentNode;\n",
       "    }\n",
       "\n",
       "    // pageX,Y are the mouse positions relative to the document\n",
       "    var boundingRect = targ.getBoundingClientRect();\n",
       "    var x = e.pageX - (boundingRect.left + document.body.scrollLeft);\n",
       "    var y = e.pageY - (boundingRect.top + document.body.scrollTop);\n",
       "\n",
       "    return { x: x, y: y };\n",
       "};\n",
       "\n",
       "/*\n",
       " * return a copy of an object with only non-object keys\n",
       " * we need this to avoid circular references\n",
       " * http://stackoverflow.com/a/24161582/3208463\n",
       " */\n",
       "function simpleKeys(original) {\n",
       "    return Object.keys(original).reduce(function (obj, key) {\n",
       "        if (typeof original[key] !== 'object') {\n",
       "            obj[key] = original[key];\n",
       "        }\n",
       "        return obj;\n",
       "    }, {});\n",
       "}\n",
       "\n",
       "mpl.figure.prototype.mouse_event = function (event, name) {\n",
       "    var canvas_pos = mpl.findpos(event);\n",
       "\n",
       "    if (name === 'button_press') {\n",
       "        this.canvas.focus();\n",
       "        this.canvas_div.focus();\n",
       "    }\n",
       "\n",
       "    var x = canvas_pos.x * this.ratio;\n",
       "    var y = canvas_pos.y * this.ratio;\n",
       "\n",
       "    this.send_message(name, {\n",
       "        x: x,\n",
       "        y: y,\n",
       "        button: event.button,\n",
       "        step: event.step,\n",
       "        guiEvent: simpleKeys(event),\n",
       "    });\n",
       "\n",
       "    /* This prevents the web browser from automatically changing to\n",
       "     * the text insertion cursor when the button is pressed.  We want\n",
       "     * to control all of the cursor setting manually through the\n",
       "     * 'cursor' event from matplotlib */\n",
       "    event.preventDefault();\n",
       "    return false;\n",
       "};\n",
       "\n",
       "mpl.figure.prototype._key_event_extra = function (_event, _name) {\n",
       "    // Handle any extra behaviour associated with a key event\n",
       "};\n",
       "\n",
       "mpl.figure.prototype.key_event = function (event, name) {\n",
       "    // Prevent repeat events\n",
       "    if (name === 'key_press') {\n",
       "        if (event.key === this._key) {\n",
       "            return;\n",
       "        } else {\n",
       "            this._key = event.key;\n",
       "        }\n",
       "    }\n",
       "    if (name === 'key_release') {\n",
       "        this._key = null;\n",
       "    }\n",
       "\n",
       "    var value = '';\n",
       "    if (event.ctrlKey && event.key !== 'Control') {\n",
       "        value += 'ctrl+';\n",
       "    }\n",
       "    else if (event.altKey && event.key !== 'Alt') {\n",
       "        value += 'alt+';\n",
       "    }\n",
       "    else if (event.shiftKey && event.key !== 'Shift') {\n",
       "        value += 'shift+';\n",
       "    }\n",
       "\n",
       "    value += 'k' + event.key;\n",
       "\n",
       "    this._key_event_extra(event, name);\n",
       "\n",
       "    this.send_message(name, { key: value, guiEvent: simpleKeys(event) });\n",
       "    return false;\n",
       "};\n",
       "\n",
       "mpl.figure.prototype.toolbar_button_onclick = function (name) {\n",
       "    if (name === 'download') {\n",
       "        this.handle_save(this, null);\n",
       "    } else {\n",
       "        this.send_message('toolbar_button', { name: name });\n",
       "    }\n",
       "};\n",
       "\n",
       "mpl.figure.prototype.toolbar_button_onmouseover = function (tooltip) {\n",
       "    this.message.textContent = tooltip;\n",
       "};\n",
       "\n",
       "///////////////// REMAINING CONTENT GENERATED BY embed_js.py /////////////////\n",
       "// prettier-ignore\n",
       "var _JSXTOOLS_RESIZE_OBSERVER=function(A){var t,i=new WeakMap,n=new WeakMap,a=new WeakMap,r=new WeakMap,o=new Set;function s(e){if(!(this instanceof s))throw new TypeError(\"Constructor requires 'new' operator\");i.set(this,e)}function h(){throw new TypeError(\"Function is not a constructor\")}function c(e,t,i,n){e=0 in arguments?Number(arguments[0]):0,t=1 in arguments?Number(arguments[1]):0,i=2 in arguments?Number(arguments[2]):0,n=3 in arguments?Number(arguments[3]):0,this.right=(this.x=this.left=e)+(this.width=i),this.bottom=(this.y=this.top=t)+(this.height=n),Object.freeze(this)}function d(){t=requestAnimationFrame(d);var s=new WeakMap,p=new Set;o.forEach((function(t){r.get(t).forEach((function(i){var r=t instanceof window.SVGElement,o=a.get(t),d=r?0:parseFloat(o.paddingTop),f=r?0:parseFloat(o.paddingRight),l=r?0:parseFloat(o.paddingBottom),u=r?0:parseFloat(o.paddingLeft),g=r?0:parseFloat(o.borderTopWidth),m=r?0:parseFloat(o.borderRightWidth),w=r?0:parseFloat(o.borderBottomWidth),b=u+f,F=d+l,v=(r?0:parseFloat(o.borderLeftWidth))+m,W=g+w,y=r?0:t.offsetHeight-W-t.clientHeight,E=r?0:t.offsetWidth-v-t.clientWidth,R=b+v,z=F+W,M=r?t.width:parseFloat(o.width)-R-E,O=r?t.height:parseFloat(o.height)-z-y;if(n.has(t)){var k=n.get(t);if(k[0]===M&&k[1]===O)return}n.set(t,[M,O]);var S=Object.create(h.prototype);S.target=t,S.contentRect=new c(u,d,M,O),s.has(i)||(s.set(i,[]),p.add(i)),s.get(i).push(S)}))})),p.forEach((function(e){i.get(e).call(e,s.get(e),e)}))}return s.prototype.observe=function(i){if(i instanceof window.Element){r.has(i)||(r.set(i,new Set),o.add(i),a.set(i,window.getComputedStyle(i)));var n=r.get(i);n.has(this)||n.add(this),cancelAnimationFrame(t),t=requestAnimationFrame(d)}},s.prototype.unobserve=function(i){if(i instanceof window.Element&&r.has(i)){var n=r.get(i);n.has(this)&&(n.delete(this),n.size||(r.delete(i),o.delete(i))),n.size||r.delete(i),o.size||cancelAnimationFrame(t)}},A.DOMRectReadOnly=c,A.ResizeObserver=s,A.ResizeObserverEntry=h,A}; // eslint-disable-line\n",
       "mpl.toolbar_items = [[\"Home\", \"Reset original view\", \"fa fa-home icon-home\", \"home\"], [\"Back\", \"Back to previous view\", \"fa fa-arrow-left icon-arrow-left\", \"back\"], [\"Forward\", \"Forward to next view\", \"fa fa-arrow-right icon-arrow-right\", \"forward\"], [\"\", \"\", \"\", \"\"], [\"Pan\", \"Left button pans, Right button zooms\\nx/y fixes axis, CTRL fixes aspect\", \"fa fa-arrows icon-move\", \"pan\"], [\"Zoom\", \"Zoom to rectangle\\nx/y fixes axis, CTRL fixes aspect\", \"fa fa-square-o icon-check-empty\", \"zoom\"], [\"\", \"\", \"\", \"\"], [\"Download\", \"Download plot\", \"fa fa-floppy-o icon-save\", \"download\"]];\n",
       "\n",
       "mpl.extensions = [\"eps\", \"jpeg\", \"pgf\", \"pdf\", \"png\", \"ps\", \"raw\", \"svg\", \"tif\"];\n",
       "\n",
       "mpl.default_extension = \"png\";/* global mpl */\n",
       "\n",
       "var comm_websocket_adapter = function (comm) {\n",
       "    // Create a \"websocket\"-like object which calls the given IPython comm\n",
       "    // object with the appropriate methods. Currently this is a non binary\n",
       "    // socket, so there is still some room for performance tuning.\n",
       "    var ws = {};\n",
       "\n",
       "    ws.binaryType = comm.kernel.ws.binaryType;\n",
       "    ws.readyState = comm.kernel.ws.readyState;\n",
       "    function updateReadyState(_event) {\n",
       "        if (comm.kernel.ws) {\n",
       "            ws.readyState = comm.kernel.ws.readyState;\n",
       "        } else {\n",
       "            ws.readyState = 3; // Closed state.\n",
       "        }\n",
       "    }\n",
       "    comm.kernel.ws.addEventListener('open', updateReadyState);\n",
       "    comm.kernel.ws.addEventListener('close', updateReadyState);\n",
       "    comm.kernel.ws.addEventListener('error', updateReadyState);\n",
       "\n",
       "    ws.close = function () {\n",
       "        comm.close();\n",
       "    };\n",
       "    ws.send = function (m) {\n",
       "        //console.log('sending', m);\n",
       "        comm.send(m);\n",
       "    };\n",
       "    // Register the callback with on_msg.\n",
       "    comm.on_msg(function (msg) {\n",
       "        //console.log('receiving', msg['content']['data'], msg);\n",
       "        var data = msg['content']['data'];\n",
       "        if (data['blob'] !== undefined) {\n",
       "            data = {\n",
       "                data: new Blob(msg['buffers'], { type: data['blob'] }),\n",
       "            };\n",
       "        }\n",
       "        // Pass the mpl event to the overridden (by mpl) onmessage function.\n",
       "        ws.onmessage(data);\n",
       "    });\n",
       "    return ws;\n",
       "};\n",
       "\n",
       "mpl.mpl_figure_comm = function (comm, msg) {\n",
       "    // This is the function which gets called when the mpl process\n",
       "    // starts-up an IPython Comm through the \"matplotlib\" channel.\n",
       "\n",
       "    var id = msg.content.data.id;\n",
       "    // Get hold of the div created by the display call when the Comm\n",
       "    // socket was opened in Python.\n",
       "    var element = document.getElementById(id);\n",
       "    var ws_proxy = comm_websocket_adapter(comm);\n",
       "\n",
       "    function ondownload(figure, _format) {\n",
       "        window.open(figure.canvas.toDataURL());\n",
       "    }\n",
       "\n",
       "    var fig = new mpl.figure(id, ws_proxy, ondownload, element);\n",
       "\n",
       "    // Call onopen now - mpl needs it, as it is assuming we've passed it a real\n",
       "    // web socket which is closed, not our websocket->open comm proxy.\n",
       "    ws_proxy.onopen();\n",
       "\n",
       "    fig.parent_element = element;\n",
       "    fig.cell_info = mpl.find_output_cell(\"<div id='\" + id + \"'></div>\");\n",
       "    if (!fig.cell_info) {\n",
       "        console.error('Failed to find cell for figure', id, fig);\n",
       "        return;\n",
       "    }\n",
       "    fig.cell_info[0].output_area.element.on(\n",
       "        'cleared',\n",
       "        { fig: fig },\n",
       "        fig._remove_fig_handler\n",
       "    );\n",
       "};\n",
       "\n",
       "mpl.figure.prototype.handle_close = function (fig, msg) {\n",
       "    var width = fig.canvas.width / fig.ratio;\n",
       "    fig.cell_info[0].output_area.element.off(\n",
       "        'cleared',\n",
       "        fig._remove_fig_handler\n",
       "    );\n",
       "    fig.resizeObserverInstance.unobserve(fig.canvas_div);\n",
       "\n",
       "    // Update the output cell to use the data from the current canvas.\n",
       "    fig.push_to_output();\n",
       "    var dataURL = fig.canvas.toDataURL();\n",
       "    // Re-enable the keyboard manager in IPython - without this line, in FF,\n",
       "    // the notebook keyboard shortcuts fail.\n",
       "    IPython.keyboard_manager.enable();\n",
       "    fig.parent_element.innerHTML =\n",
       "        '<img src=\"' + dataURL + '\" width=\"' + width + '\">';\n",
       "    fig.close_ws(fig, msg);\n",
       "};\n",
       "\n",
       "mpl.figure.prototype.close_ws = function (fig, msg) {\n",
       "    fig.send_message('closing', msg);\n",
       "    // fig.ws.close()\n",
       "};\n",
       "\n",
       "mpl.figure.prototype.push_to_output = function (_remove_interactive) {\n",
       "    // Turn the data on the canvas into data in the output cell.\n",
       "    var width = this.canvas.width / this.ratio;\n",
       "    var dataURL = this.canvas.toDataURL();\n",
       "    this.cell_info[1]['text/html'] =\n",
       "        '<img src=\"' + dataURL + '\" width=\"' + width + '\">';\n",
       "};\n",
       "\n",
       "mpl.figure.prototype.updated_canvas_event = function () {\n",
       "    // Tell IPython that the notebook contents must change.\n",
       "    IPython.notebook.set_dirty(true);\n",
       "    this.send_message('ack', {});\n",
       "    var fig = this;\n",
       "    // Wait a second, then push the new image to the DOM so\n",
       "    // that it is saved nicely (might be nice to debounce this).\n",
       "    setTimeout(function () {\n",
       "        fig.push_to_output();\n",
       "    }, 1000);\n",
       "};\n",
       "\n",
       "mpl.figure.prototype._init_toolbar = function () {\n",
       "    var fig = this;\n",
       "\n",
       "    var toolbar = document.createElement('div');\n",
       "    toolbar.classList = 'btn-toolbar';\n",
       "    this.root.appendChild(toolbar);\n",
       "\n",
       "    function on_click_closure(name) {\n",
       "        return function (_event) {\n",
       "            return fig.toolbar_button_onclick(name);\n",
       "        };\n",
       "    }\n",
       "\n",
       "    function on_mouseover_closure(tooltip) {\n",
       "        return function (event) {\n",
       "            if (!event.currentTarget.disabled) {\n",
       "                return fig.toolbar_button_onmouseover(tooltip);\n",
       "            }\n",
       "        };\n",
       "    }\n",
       "\n",
       "    fig.buttons = {};\n",
       "    var buttonGroup = document.createElement('div');\n",
       "    buttonGroup.classList = 'btn-group';\n",
       "    var button;\n",
       "    for (var toolbar_ind in mpl.toolbar_items) {\n",
       "        var name = mpl.toolbar_items[toolbar_ind][0];\n",
       "        var tooltip = mpl.toolbar_items[toolbar_ind][1];\n",
       "        var image = mpl.toolbar_items[toolbar_ind][2];\n",
       "        var method_name = mpl.toolbar_items[toolbar_ind][3];\n",
       "\n",
       "        if (!name) {\n",
       "            /* Instead of a spacer, we start a new button group. */\n",
       "            if (buttonGroup.hasChildNodes()) {\n",
       "                toolbar.appendChild(buttonGroup);\n",
       "            }\n",
       "            buttonGroup = document.createElement('div');\n",
       "            buttonGroup.classList = 'btn-group';\n",
       "            continue;\n",
       "        }\n",
       "\n",
       "        button = fig.buttons[name] = document.createElement('button');\n",
       "        button.classList = 'btn btn-default';\n",
       "        button.href = '#';\n",
       "        button.title = name;\n",
       "        button.innerHTML = '<i class=\"fa ' + image + ' fa-lg\"></i>';\n",
       "        button.addEventListener('click', on_click_closure(method_name));\n",
       "        button.addEventListener('mouseover', on_mouseover_closure(tooltip));\n",
       "        buttonGroup.appendChild(button);\n",
       "    }\n",
       "\n",
       "    if (buttonGroup.hasChildNodes()) {\n",
       "        toolbar.appendChild(buttonGroup);\n",
       "    }\n",
       "\n",
       "    // Add the status bar.\n",
       "    var status_bar = document.createElement('span');\n",
       "    status_bar.classList = 'mpl-message pull-right';\n",
       "    toolbar.appendChild(status_bar);\n",
       "    this.message = status_bar;\n",
       "\n",
       "    // Add the close button to the window.\n",
       "    var buttongrp = document.createElement('div');\n",
       "    buttongrp.classList = 'btn-group inline pull-right';\n",
       "    button = document.createElement('button');\n",
       "    button.classList = 'btn btn-mini btn-primary';\n",
       "    button.href = '#';\n",
       "    button.title = 'Stop Interaction';\n",
       "    button.innerHTML = '<i class=\"fa fa-power-off icon-remove icon-large\"></i>';\n",
       "    button.addEventListener('click', function (_evt) {\n",
       "        fig.handle_close(fig, {});\n",
       "    });\n",
       "    button.addEventListener(\n",
       "        'mouseover',\n",
       "        on_mouseover_closure('Stop Interaction')\n",
       "    );\n",
       "    buttongrp.appendChild(button);\n",
       "    var titlebar = this.root.querySelector('.ui-dialog-titlebar');\n",
       "    titlebar.insertBefore(buttongrp, titlebar.firstChild);\n",
       "};\n",
       "\n",
       "mpl.figure.prototype._remove_fig_handler = function (event) {\n",
       "    var fig = event.data.fig;\n",
       "    if (event.target !== this) {\n",
       "        // Ignore bubbled events from children.\n",
       "        return;\n",
       "    }\n",
       "    fig.close_ws(fig, {});\n",
       "};\n",
       "\n",
       "mpl.figure.prototype._root_extra_style = function (el) {\n",
       "    el.style.boxSizing = 'content-box'; // override notebook setting of border-box.\n",
       "};\n",
       "\n",
       "mpl.figure.prototype._canvas_extra_style = function (el) {\n",
       "    // this is important to make the div 'focusable\n",
       "    el.setAttribute('tabindex', 0);\n",
       "    // reach out to IPython and tell the keyboard manager to turn it's self\n",
       "    // off when our div gets focus\n",
       "\n",
       "    // location in version 3\n",
       "    if (IPython.notebook.keyboard_manager) {\n",
       "        IPython.notebook.keyboard_manager.register_events(el);\n",
       "    } else {\n",
       "        // location in version 2\n",
       "        IPython.keyboard_manager.register_events(el);\n",
       "    }\n",
       "};\n",
       "\n",
       "mpl.figure.prototype._key_event_extra = function (event, _name) {\n",
       "    var manager = IPython.notebook.keyboard_manager;\n",
       "    if (!manager) {\n",
       "        manager = IPython.keyboard_manager;\n",
       "    }\n",
       "\n",
       "    // Check for shift+enter\n",
       "    if (event.shiftKey && event.which === 13) {\n",
       "        this.canvas_div.blur();\n",
       "        // select the cell after this one\n",
       "        var index = IPython.notebook.find_cell_index(this.cell_info[0]);\n",
       "        IPython.notebook.select(index + 1);\n",
       "    }\n",
       "};\n",
       "\n",
       "mpl.figure.prototype.handle_save = function (fig, _msg) {\n",
       "    fig.ondownload(fig, null);\n",
       "};\n",
       "\n",
       "mpl.find_output_cell = function (html_output) {\n",
       "    // Return the cell and output element which can be found *uniquely* in the notebook.\n",
       "    // Note - this is a bit hacky, but it is done because the \"notebook_saving.Notebook\"\n",
       "    // IPython event is triggered only after the cells have been serialised, which for\n",
       "    // our purposes (turning an active figure into a static one), is too late.\n",
       "    var cells = IPython.notebook.get_cells();\n",
       "    var ncells = cells.length;\n",
       "    for (var i = 0; i < ncells; i++) {\n",
       "        var cell = cells[i];\n",
       "        if (cell.cell_type === 'code') {\n",
       "            for (var j = 0; j < cell.output_area.outputs.length; j++) {\n",
       "                var data = cell.output_area.outputs[j];\n",
       "                if (data.data) {\n",
       "                    // IPython >= 3 moved mimebundle to data attribute of output\n",
       "                    data = data.data;\n",
       "                }\n",
       "                if (data['text/html'] === html_output) {\n",
       "                    return [cell, data, j];\n",
       "                }\n",
       "            }\n",
       "        }\n",
       "    }\n",
       "};\n",
       "\n",
       "// Register the function which deals with the matplotlib target/channel.\n",
       "// The kernel may be null if the page has been refreshed.\n",
       "if (IPython.notebook.kernel !== null) {\n",
       "    IPython.notebook.kernel.comm_manager.register_target(\n",
       "        'matplotlib',\n",
       "        mpl.mpl_figure_comm\n",
       "    );\n",
       "}\n"
      ],
      "text/plain": [
       "<IPython.core.display.Javascript object>"
      ]
     },
     "metadata": {},
     "output_type": "display_data"
    },
    {
     "data": {
      "text/html": [
       "<img src=\"data:image/png;base64,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\" width=\"945.8333333333334\">"
      ],
      "text/plain": [
       "<IPython.core.display.HTML object>"
      ]
     },
     "metadata": {},
     "output_type": "display_data"
    },
    {
     "data": {
      "text/plain": [
       "<seaborn.axisgrid.FacetGrid at 0x7f9c57910400>"
      ]
     },
     "execution_count": 92,
     "metadata": {},
     "output_type": "execute_result"
    }
   ],
   "source": [
    "# Group labels together\n",
    "station_trips.loc[station_trips['ascend_shuttle'].str.contains('soyuz', case=False), 'ascend_shuttle'] = 'Soyuz'\n",
    "station_trips.loc[station_trips['ascend_shuttle'].str.contains('sts', case=False), 'ascend_shuttle'] = 'Space Shuttle'\n",
    "\n",
    "ax = sns.relplot(data=station_trips,\n",
    "                 x='year_of_mission',\n",
    "                 y='hours_mission',\n",
    "                 hue='ascend_shuttle',\n",
    "                 style='in_orbit',\n",
    "                 height=4,\n",
    "                 aspect=2)\n",
    "\n",
    "ax.set_xticklabels(rotation=45,\n",
    "                   verticalalignment='top',\n",
    "                   horizontalalignment='right')"
   ]
  },
  {
   "cell_type": "markdown",
   "metadata": {
    "slideshow": {
     "slide_type": "subslide"
    }
   },
   "source": [
    "# 🚩🚩🚩 Example 6\n",
    "\n",
    "- Change the code above to display the sex of the astronauts in 2 different colours, instead of the ascend shuttle.\n",
    "- Change `'hours_mission'` to `'age'` above to plot the age of astronauts going to Mir or the ISS over the years.\n",
    "- What is the average duration of a mission to Mir? to the ISS?\n",
    "- How long was the longest mission, in **days**? Who was the astronaut?\n",
    "- Which countries have sent civilians to space?\n",
    "- How many astronauts were from the USSR?"
   ]
  },
  {
   "cell_type": "code",
   "execution_count": null,
   "metadata": {},
   "outputs": [],
   "source": []
  },
  {
   "cell_type": "code",
   "execution_count": null,
   "metadata": {
    "slideshow": {
     "slide_type": "subslide"
    }
   },
   "outputs": [],
   "source": [
    "# Average duration of a mission to Mir and to the ISS\n",
    "print(station_trips.loc[station_trips['in_orbit'] == 'Mir', 'hours_mission'].mean())\n",
    "print(station_trips.loc[station_trips['in_orbit'] == 'ISS', 'hours_mission'].mean())"
   ]
  },
  {
   "cell_type": "code",
   "execution_count": null,
   "metadata": {},
   "outputs": [],
   "source": [
    "# Longest mission, in days, and astronaut name\n",
    "max_hours = station_trips['hours_mission'].max()\n",
    "print(max_hours / 24)\n",
    "\n",
    "# Display the name of the astronaut, nationality, and year of mission\n",
    "astronauts.loc[astronauts['hours_mission'] == max_hours, ['name', 'nationality', 'year_of_mission']]"
   ]
  },
  {
   "cell_type": "code",
   "execution_count": null,
   "metadata": {
    "scrolled": true
   },
   "outputs": [],
   "source": [
    "# 26 countries have sent civilians to space\n",
    "print(astronauts.loc[astronauts['military_civilian'] == 'civilian', 'nationality'].unique())\n",
    "print(astronauts.loc[astronauts['military_civilian'] == 'civilian', 'nationality'].nunique())"
   ]
  },
  {
   "cell_type": "code",
   "execution_count": null,
   "metadata": {},
   "outputs": [],
   "source": [
    "# Count unique astronauts from the USSR (Russia + Ukraine)\n",
    "astronauts.loc[astronauts['nationality'].str.startswith('U.S.S.R'), 'name'].nunique()"
   ]
  },
  {
   "cell_type": "markdown",
   "metadata": {
    "slideshow": {
     "slide_type": "slide"
    }
   },
   "source": [
    "## What's next?\n",
    "\n",
    "Install Python to run code on your computer:\n",
    "- If you're interested in doing data science or scientific computing, install [Anaconda](https://www.anaconda.com/products/individual). This will install Python, Jupyter (what we've used today), Spyder (an IDE), together with lots of useful libraries, like pandas, seaborn, and many others. Installing new packages after that is also straightforward with `conda`.\n",
    "- If you just want Python (e.g. for scripting), you can also [install it directly](https://www.python.org/downloads/). Installing new packages can then be done e.g. with `pip`.\n",
    "\n",
    "The current stable version of Python is 3.10. Version 3.8 will also be fully supported until 2024.\n"
   ]
  },
  {
   "cell_type": "markdown",
   "metadata": {
    "slideshow": {
     "slide_type": "subslide"
    }
   },
   "source": [
    "## What's next?\n",
    "\n",
    "Learn more about Python:\n",
    "- The official [Python documentation](https://docs.python.org/3/) includes a comprehensive [tutorial](https://docs.python.org/3/tutorial/index.html) for beginners.\n",
    "- Two excellent free online books by Jake VanderPlas:\n",
    "    - [A Whirlwind Tour of Python](https://jakevdp.github.io/WhirlwindTourOfPython/)\n",
    "    - [The Python Data Science Handbook](https://jakevdp.github.io/PythonDataScienceHandbook/)\n",
    "- [Software Carpentry](https://software-carpentry.org/) is a non-profit which run regular workshops to teach Python (and other things!), for different levels of experience. All their teaching materials are open-source and [freely available online](https://software-carpentry.org/lessons/), they're great to follow along for self-teaching. The [Edinburgh branch](https://edcarp.github.io/) is also quite active and holds regular workshops."
   ]
  },
  {
   "cell_type": "markdown",
   "metadata": {
    "slideshow": {
     "slide_type": "subslide"
    }
   },
   "source": [
    "## What's next?\n",
    "\n",
    "Learn more about Python for data science and scientific computing:\n",
    "\n",
    "- The pandas documentation has excellent [Getting Started tutorials](https://pandas.pydata.org/docs/getting_started/intro_tutorials/) and [user guides](https://pandas.pydata.org/docs/user_guide/index.html). In particular, I'd recommend the tutorial [\"10 minutes to Pandas\"](https://pandas.pydata.org/docs/user_guide/10min.html).\n",
    "- The seaborn documentation also has great [tutorials](https://seaborn.pydata.org/tutorial.html) and a [showcase gallery](https://seaborn.pydata.org/examples/index.html).\n",
    "- [scikit-learn](https://scikit-learn.org/stable/) is a fantastic library for machine learning, it comes with lots of tools and algorithms for preprocessing, classification, regression, etc. [TensorFlow](https://www.tensorflow.org/overview) is also widely used. [PyTorch](https://pytorch.org/tutorials/beginner/deep_learning_60min_blitz.html) is great for deep learning as it can take advantage of parallel architectures.\n",
    "- For less data-oriented scientific computing, libraries like [NumPy](https://numpy.org/learn/) and [SciPy](https://scipy.github.io/devdocs/index.html) (also with a great [tutorial page](https://scipy.github.io/devdocs/tutorial/index.html)) are widely used, together with [matplotlib](https://matplotlib.org/stable/tutorials/index.html) for plotting.\n"
   ]
  },
  {
   "cell_type": "markdown",
   "metadata": {
    "slideshow": {
     "slide_type": "slide"
    }
   },
   "source": [
    "# Thank you!"
   ]
  }
 ],
 "metadata": {
  "celltoolbar": "Slideshow",
  "kernelspec": {
   "display_name": "Python 3 (ipykernel)",
   "language": "python",
   "name": "python3"
  },
  "language_info": {
   "codemirror_mode": {
    "name": "ipython",
    "version": 3
   },
   "file_extension": ".py",
   "mimetype": "text/x-python",
   "name": "python",
   "nbconvert_exporter": "python",
   "pygments_lexer": "ipython3",
   "version": "3.8.12"
  }
 },
 "nbformat": 4,
 "nbformat_minor": 4
}
